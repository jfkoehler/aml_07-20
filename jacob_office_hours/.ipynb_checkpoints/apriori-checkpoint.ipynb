{
 "cells": [
  {
   "cell_type": "markdown",
   "metadata": {},
   "source": [
    "# Association Rules and Apriori Algorithm\n",
    "\n",
    "- The *apriori* algorithm\n",
    "\n"
   ]
  },
  {
   "cell_type": "code",
   "execution_count": 1,
   "metadata": {},
   "outputs": [],
   "source": [
    "%matplotlib inline\n",
    "import matplotlib.pyplot as plt\n",
    "import numpy as np\n",
    "import pandas as pd"
   ]
  },
  {
   "cell_type": "markdown",
   "metadata": {},
   "source": [
    "## Mining Association Rules\n",
    "\n",
    "![](images/basket.png)"
   ]
  },
  {
   "cell_type": "markdown",
   "metadata": {},
   "source": [
    "## Formal Statement of Problem\n",
    "\n",
    "A set of *items*\n",
    "\n",
    "- $I = {i_1, i_2, ..., i_m}$\n",
    "\n",
    "A set of *transactions*\n",
    "\n",
    "- $D$ where each transaction $T$ is a set of items such that $T \\subset I$\n",
    "\n",
    "A unique identifier for transactions.\n",
    "\n",
    "- $TID$\n"
   ]
  },
  {
   "cell_type": "markdown",
   "metadata": {},
   "source": [
    "### EXAMPLE\n",
    "\n",
    "We have information on 60 customers.\n",
    "\n",
    "- 10 transactions contain milk\n",
    "- 20 transactions contain beer\n",
    "- 30 transactions contain diapers\n",
    "- 15 transactions that contain diapers also contain beer\n",
    "- 5 transactions that contain diapers also contain milk"
   ]
  },
  {
   "cell_type": "markdown",
   "metadata": {},
   "source": [
    "### Support\n",
    "\n",
    "Think proportion of item.\n",
    "\n",
    "```\n",
    "Support(diaper) = (Transactions with (diaper) ) / (Total Transactions)\n",
    "```"
   ]
  },
  {
   "cell_type": "markdown",
   "metadata": {},
   "source": [
    "### Confidence\n",
    "\n",
    "Likelihood item B is bought when item A is bought.  \n",
    "\n",
    "```\n",
    "Confidence(A -> B) = (Transactions(A and B))/(Transactions with A)\n",
    "```\n"
   ]
  },
  {
   "cell_type": "markdown",
   "metadata": {},
   "source": [
    "### Lift\n",
    "\n",
    "The increase in ratio of sale of B when A is sold.\n",
    "\n",
    "```\n",
    "Lift(A -> B) = (Confidence(A -> B)/ Support(B))\n",
    "```\n"
   ]
  },
  {
   "cell_type": "code",
   "execution_count": 2,
   "metadata": {},
   "outputs": [],
   "source": [
    "support_diaper = 30/60"
   ]
  },
  {
   "cell_type": "code",
   "execution_count": 3,
   "metadata": {},
   "outputs": [],
   "source": [
    "confidence_beer_diapers = 15/10\n",
    "confidence_milk_diapers = 5/10"
   ]
  },
  {
   "cell_type": "code",
   "execution_count": 4,
   "metadata": {},
   "outputs": [],
   "source": [
    "lift_beer_diaper = confidence_beer_diapers/support_diaper\n",
    "lift_milk_diaper = confidence_milk_diapers/support_diaper"
   ]
  },
  {
   "cell_type": "code",
   "execution_count": 67,
   "metadata": {},
   "outputs": [
    {
     "data": {
      "text/plain": [
       "3.0"
      ]
     },
     "execution_count": 67,
     "metadata": {},
     "output_type": "execute_result"
    }
   ],
   "source": [
    "lift_beer_diaper"
   ]
  },
  {
   "cell_type": "code",
   "execution_count": 68,
   "metadata": {},
   "outputs": [
    {
     "data": {
      "text/plain": [
       "1.0"
      ]
     },
     "execution_count": 68,
     "metadata": {},
     "output_type": "execute_result"
    }
   ],
   "source": [
    "lift_milk_diaper"
   ]
  },
  {
   "cell_type": "code",
   "execution_count": 5,
   "metadata": {},
   "outputs": [
    {
     "name": "stdout",
     "output_type": "stream",
     "text": [
      "These are likely\n",
      "No Association\n"
     ]
    }
   ],
   "source": [
    "for lift in [lift_beer_diaper, lift_milk_diaper]:\n",
    "    if lift == 1:\n",
    "        print('No Association')\n",
    "    elif lift < 1: \n",
    "        print('Not likely to be bought together')\n",
    "    elif lift > 1:\n",
    "        print('These are likely')"
   ]
  },
  {
   "cell_type": "markdown",
   "metadata": {},
   "source": [
    "### Implementation\n",
    "\n",
    "- Restrict support and confidence values.\n",
    "- Extract subsets larger than threshold\n",
    "- Determine Confidence and select items\n",
    "- Order the rules by descending order of lift"
   ]
  },
  {
   "cell_type": "code",
   "execution_count": 6,
   "metadata": {},
   "outputs": [],
   "source": [
    "import pandas as pd"
   ]
  },
  {
   "cell_type": "code",
   "execution_count": 7,
   "metadata": {},
   "outputs": [],
   "source": [
    "df = pd.read_csv('data/store_data.csv')"
   ]
  },
  {
   "cell_type": "code",
   "execution_count": 8,
   "metadata": {},
   "outputs": [
    {
     "data": {
      "text/html": [
       "<div>\n",
       "<style scoped>\n",
       "    .dataframe tbody tr th:only-of-type {\n",
       "        vertical-align: middle;\n",
       "    }\n",
       "\n",
       "    .dataframe tbody tr th {\n",
       "        vertical-align: top;\n",
       "    }\n",
       "\n",
       "    .dataframe thead th {\n",
       "        text-align: right;\n",
       "    }\n",
       "</style>\n",
       "<table border=\"1\" class=\"dataframe\">\n",
       "  <thead>\n",
       "    <tr style=\"text-align: right;\">\n",
       "      <th></th>\n",
       "      <th>shrimp</th>\n",
       "      <th>almonds</th>\n",
       "      <th>avocado</th>\n",
       "      <th>vegetables mix</th>\n",
       "      <th>green grapes</th>\n",
       "      <th>whole weat flour</th>\n",
       "      <th>yams</th>\n",
       "      <th>cottage cheese</th>\n",
       "      <th>energy drink</th>\n",
       "      <th>tomato juice</th>\n",
       "      <th>low fat yogurt</th>\n",
       "      <th>green tea</th>\n",
       "      <th>honey</th>\n",
       "      <th>salad</th>\n",
       "      <th>mineral water</th>\n",
       "      <th>salmon</th>\n",
       "      <th>antioxydant juice</th>\n",
       "      <th>frozen smoothie</th>\n",
       "      <th>spinach</th>\n",
       "      <th>olive oil</th>\n",
       "    </tr>\n",
       "  </thead>\n",
       "  <tbody>\n",
       "    <tr>\n",
       "      <th>0</th>\n",
       "      <td>burgers</td>\n",
       "      <td>meatballs</td>\n",
       "      <td>eggs</td>\n",
       "      <td>NaN</td>\n",
       "      <td>NaN</td>\n",
       "      <td>NaN</td>\n",
       "      <td>NaN</td>\n",
       "      <td>NaN</td>\n",
       "      <td>NaN</td>\n",
       "      <td>NaN</td>\n",
       "      <td>NaN</td>\n",
       "      <td>NaN</td>\n",
       "      <td>NaN</td>\n",
       "      <td>NaN</td>\n",
       "      <td>NaN</td>\n",
       "      <td>NaN</td>\n",
       "      <td>NaN</td>\n",
       "      <td>NaN</td>\n",
       "      <td>NaN</td>\n",
       "      <td>NaN</td>\n",
       "    </tr>\n",
       "    <tr>\n",
       "      <th>1</th>\n",
       "      <td>chutney</td>\n",
       "      <td>NaN</td>\n",
       "      <td>NaN</td>\n",
       "      <td>NaN</td>\n",
       "      <td>NaN</td>\n",
       "      <td>NaN</td>\n",
       "      <td>NaN</td>\n",
       "      <td>NaN</td>\n",
       "      <td>NaN</td>\n",
       "      <td>NaN</td>\n",
       "      <td>NaN</td>\n",
       "      <td>NaN</td>\n",
       "      <td>NaN</td>\n",
       "      <td>NaN</td>\n",
       "      <td>NaN</td>\n",
       "      <td>NaN</td>\n",
       "      <td>NaN</td>\n",
       "      <td>NaN</td>\n",
       "      <td>NaN</td>\n",
       "      <td>NaN</td>\n",
       "    </tr>\n",
       "    <tr>\n",
       "      <th>2</th>\n",
       "      <td>turkey</td>\n",
       "      <td>avocado</td>\n",
       "      <td>NaN</td>\n",
       "      <td>NaN</td>\n",
       "      <td>NaN</td>\n",
       "      <td>NaN</td>\n",
       "      <td>NaN</td>\n",
       "      <td>NaN</td>\n",
       "      <td>NaN</td>\n",
       "      <td>NaN</td>\n",
       "      <td>NaN</td>\n",
       "      <td>NaN</td>\n",
       "      <td>NaN</td>\n",
       "      <td>NaN</td>\n",
       "      <td>NaN</td>\n",
       "      <td>NaN</td>\n",
       "      <td>NaN</td>\n",
       "      <td>NaN</td>\n",
       "      <td>NaN</td>\n",
       "      <td>NaN</td>\n",
       "    </tr>\n",
       "    <tr>\n",
       "      <th>3</th>\n",
       "      <td>mineral water</td>\n",
       "      <td>milk</td>\n",
       "      <td>energy bar</td>\n",
       "      <td>whole wheat rice</td>\n",
       "      <td>green tea</td>\n",
       "      <td>NaN</td>\n",
       "      <td>NaN</td>\n",
       "      <td>NaN</td>\n",
       "      <td>NaN</td>\n",
       "      <td>NaN</td>\n",
       "      <td>NaN</td>\n",
       "      <td>NaN</td>\n",
       "      <td>NaN</td>\n",
       "      <td>NaN</td>\n",
       "      <td>NaN</td>\n",
       "      <td>NaN</td>\n",
       "      <td>NaN</td>\n",
       "      <td>NaN</td>\n",
       "      <td>NaN</td>\n",
       "      <td>NaN</td>\n",
       "    </tr>\n",
       "    <tr>\n",
       "      <th>4</th>\n",
       "      <td>low fat yogurt</td>\n",
       "      <td>NaN</td>\n",
       "      <td>NaN</td>\n",
       "      <td>NaN</td>\n",
       "      <td>NaN</td>\n",
       "      <td>NaN</td>\n",
       "      <td>NaN</td>\n",
       "      <td>NaN</td>\n",
       "      <td>NaN</td>\n",
       "      <td>NaN</td>\n",
       "      <td>NaN</td>\n",
       "      <td>NaN</td>\n",
       "      <td>NaN</td>\n",
       "      <td>NaN</td>\n",
       "      <td>NaN</td>\n",
       "      <td>NaN</td>\n",
       "      <td>NaN</td>\n",
       "      <td>NaN</td>\n",
       "      <td>NaN</td>\n",
       "      <td>NaN</td>\n",
       "    </tr>\n",
       "  </tbody>\n",
       "</table>\n",
       "</div>"
      ],
      "text/plain": [
       "           shrimp    almonds     avocado    vegetables mix green grapes  \\\n",
       "0         burgers  meatballs        eggs               NaN          NaN   \n",
       "1         chutney        NaN         NaN               NaN          NaN   \n",
       "2          turkey    avocado         NaN               NaN          NaN   \n",
       "3   mineral water       milk  energy bar  whole wheat rice    green tea   \n",
       "4  low fat yogurt        NaN         NaN               NaN          NaN   \n",
       "\n",
       "  whole weat flour yams cottage cheese energy drink tomato juice  \\\n",
       "0              NaN  NaN            NaN          NaN          NaN   \n",
       "1              NaN  NaN            NaN          NaN          NaN   \n",
       "2              NaN  NaN            NaN          NaN          NaN   \n",
       "3              NaN  NaN            NaN          NaN          NaN   \n",
       "4              NaN  NaN            NaN          NaN          NaN   \n",
       "\n",
       "  low fat yogurt green tea honey salad mineral water salmon antioxydant juice  \\\n",
       "0            NaN       NaN   NaN   NaN           NaN    NaN               NaN   \n",
       "1            NaN       NaN   NaN   NaN           NaN    NaN               NaN   \n",
       "2            NaN       NaN   NaN   NaN           NaN    NaN               NaN   \n",
       "3            NaN       NaN   NaN   NaN           NaN    NaN               NaN   \n",
       "4            NaN       NaN   NaN   NaN           NaN    NaN               NaN   \n",
       "\n",
       "  frozen smoothie spinach  olive oil  \n",
       "0             NaN     NaN        NaN  \n",
       "1             NaN     NaN        NaN  \n",
       "2             NaN     NaN        NaN  \n",
       "3             NaN     NaN        NaN  \n",
       "4             NaN     NaN        NaN  "
      ]
     },
     "execution_count": 8,
     "metadata": {},
     "output_type": "execute_result"
    }
   ],
   "source": [
    "df.head()"
   ]
  },
  {
   "cell_type": "code",
   "execution_count": 9,
   "metadata": {},
   "outputs": [
    {
     "data": {
      "text/plain": [
       "Index(['shrimp', 'almonds', 'avocado', 'vegetables mix', 'green grapes',\n",
       "       'whole weat flour', 'yams', 'cottage cheese', 'energy drink',\n",
       "       'tomato juice', 'low fat yogurt', 'green tea', 'honey', 'salad',\n",
       "       'mineral water', 'salmon', 'antioxydant juice', 'frozen smoothie',\n",
       "       'spinach', 'olive oil'],\n",
       "      dtype='object')"
      ]
     },
     "execution_count": 9,
     "metadata": {},
     "output_type": "execute_result"
    }
   ],
   "source": [
    "df.columns"
   ]
  },
  {
   "cell_type": "code",
   "execution_count": 10,
   "metadata": {},
   "outputs": [],
   "source": [
    "#!pip install apyori\n",
    "from apyori import apriori"
   ]
  },
  {
   "cell_type": "code",
   "execution_count": 11,
   "metadata": {},
   "outputs": [],
   "source": [
    "records = []\n",
    "for i in range(df.shape[0]):\n",
    "    records.append([str(df.values[i, j]) for j in range(0, df.shape[1])])"
   ]
  },
  {
   "cell_type": "code",
   "execution_count": 12,
   "metadata": {},
   "outputs": [
    {
     "data": {
      "text/plain": [
       "7500"
      ]
     },
     "execution_count": 12,
     "metadata": {},
     "output_type": "execute_result"
    }
   ],
   "source": [
    "len(records)"
   ]
  },
  {
   "cell_type": "code",
   "execution_count": 69,
   "metadata": {},
   "outputs": [
    {
     "data": {
      "text/plain": [
       "['burgers',\n",
       " 'meatballs',\n",
       " 'eggs',\n",
       " 'nan',\n",
       " 'nan',\n",
       " 'nan',\n",
       " 'nan',\n",
       " 'nan',\n",
       " 'nan',\n",
       " 'nan',\n",
       " 'nan',\n",
       " 'nan',\n",
       " 'nan',\n",
       " 'nan',\n",
       " 'nan',\n",
       " 'nan',\n",
       " 'nan',\n",
       " 'nan',\n",
       " 'nan',\n",
       " 'nan']"
      ]
     },
     "execution_count": 69,
     "metadata": {},
     "output_type": "execute_result"
    }
   ],
   "source": [
    "records[0]"
   ]
  },
  {
   "cell_type": "code",
   "execution_count": 70,
   "metadata": {},
   "outputs": [
    {
     "data": {
      "text/plain": [
       "['eggs',\n",
       " 'frozen smoothie',\n",
       " 'yogurt cake',\n",
       " 'low fat yogurt',\n",
       " 'nan',\n",
       " 'nan',\n",
       " 'nan',\n",
       " 'nan',\n",
       " 'nan',\n",
       " 'nan',\n",
       " 'nan',\n",
       " 'nan',\n",
       " 'nan',\n",
       " 'nan',\n",
       " 'nan',\n",
       " 'nan',\n",
       " 'nan',\n",
       " 'nan',\n",
       " 'nan',\n",
       " 'nan']"
      ]
     },
     "execution_count": 70,
     "metadata": {},
     "output_type": "execute_result"
    }
   ],
   "source": [
    "records[-1]"
   ]
  },
  {
   "cell_type": "code",
   "execution_count": 13,
   "metadata": {},
   "outputs": [],
   "source": [
    "association_rules = apriori(records, min_support = 0.0045, min_confidence=0.2, min_lift=3, min_length = 3)\n",
    "results = list(association_rules)"
   ]
  },
  {
   "cell_type": "code",
   "execution_count": 14,
   "metadata": {},
   "outputs": [
    {
     "data": {
      "text/plain": [
       "RelationRecord(items=frozenset({'chicken', 'light cream'}), support=0.004533333333333334, ordered_statistics=[OrderedStatistic(items_base=frozenset({'light cream'}), items_add=frozenset({'chicken'}), confidence=0.2905982905982906, lift=4.843304843304844)])"
      ]
     },
     "execution_count": 14,
     "metadata": {},
     "output_type": "execute_result"
    }
   ],
   "source": [
    "results[0]"
   ]
  },
  {
   "cell_type": "code",
   "execution_count": 15,
   "metadata": {},
   "outputs": [
    {
     "name": "stdout",
     "output_type": "stream",
     "text": [
      "Rule: chicken  --> light cream\n",
      "Support 0.0045\n",
      "Confidence 0.2906\n",
      "Lift 4.8433\n",
      "============\n",
      "\n",
      "Rule: escalope  --> mushroom cream sauce\n",
      "Support 0.0057\n",
      "Confidence 0.3007\n",
      "Lift 3.7903\n",
      "============\n",
      "\n",
      "Rule: pasta  --> escalope\n",
      "Support 0.0059\n",
      "Confidence 0.3729\n",
      "Lift 4.7002\n",
      "============\n",
      "\n",
      "Rule: herb & pepper  --> ground beef\n",
      "Support 0.0160\n",
      "Confidence 0.3235\n",
      "Lift 3.2916\n",
      "============\n",
      "\n",
      "Rule: tomato sauce  --> ground beef\n",
      "Support 0.0053\n",
      "Confidence 0.3774\n",
      "Lift 3.8401\n",
      "============\n",
      "\n",
      "Rule: olive oil  --> whole wheat pasta\n",
      "Support 0.0080\n",
      "Confidence 0.2715\n",
      "Lift 4.1302\n",
      "============\n",
      "\n",
      "Rule: pasta  --> shrimp\n",
      "Support 0.0051\n",
      "Confidence 0.3220\n",
      "Lift 4.5145\n",
      "============\n",
      "\n",
      "Rule: chicken  --> light cream\n",
      "Support 0.0045\n",
      "Confidence 0.2906\n",
      "Lift 4.8433\n",
      "============\n",
      "\n",
      "Rule: chocolate  --> shrimp\n",
      "Support 0.0053\n",
      "Confidence 0.2326\n",
      "Lift 3.2602\n",
      "============\n",
      "\n",
      "Rule: cooking oil  --> spaghetti\n",
      "Support 0.0048\n",
      "Confidence 0.5714\n",
      "Lift 3.2816\n",
      "============\n",
      "\n"
     ]
    }
   ],
   "source": [
    "for result in results[:10]:\n",
    "    items = result[0]\n",
    "    items = [x for x in items]\n",
    "    print('Rule: ' + items[0] + '  --> ' + items[1])\n",
    "    print('Support {:.4f}'.format(result[1]))\n",
    "    print('Confidence {:.4f}'.format(float(result[2][0][2])))\n",
    "    print('Lift {:.4f}'.format(result[2][0][3]))\n",
    "    print('============\\n')"
   ]
  },
  {
   "cell_type": "markdown",
   "metadata": {},
   "source": [
    "### The SVD Approach\n",
    "\n",
    "![](https://d253pvgap36xx8.cloudfront.net/editor_uploads/1488/2015/06/03/netflixprize.jpg)"
   ]
  },
  {
   "cell_type": "markdown",
   "metadata": {},
   "source": [
    "## Recommendations in Python\n",
    "\n",
    "![](images/surprise.png)\n",
    "\n",
    "More complex algorithms implementation are possible with the `Surprise` library.  "
   ]
  },
  {
   "cell_type": "code",
   "execution_count": 16,
   "metadata": {},
   "outputs": [],
   "source": [
    "from surprise import SVD\n",
    "from surprise import Dataset, accuracy\n",
    "from surprise.model_selection import cross_validate\n",
    "from surprise.model_selection import train_test_split\n",
    "# Load the movielens-100k dataset (download it if needed).\n",
    "data = Dataset.load_builtin('ml-100k')"
   ]
  },
  {
   "cell_type": "code",
   "execution_count": 17,
   "metadata": {},
   "outputs": [],
   "source": [
    "trainset, testset = train_test_split(data, test_size = 0.25)"
   ]
  },
  {
   "cell_type": "code",
   "execution_count": 18,
   "metadata": {},
   "outputs": [
    {
     "data": {
      "text/plain": [
       "[('943', '566', 4.0),\n",
       " ('43', '17', 3.0),\n",
       " ('416', '959', 5.0),\n",
       " ('157', '286', 5.0),\n",
       " ('499', '213', 3.0)]"
      ]
     },
     "execution_count": 18,
     "metadata": {},
     "output_type": "execute_result"
    }
   ],
   "source": [
    "testset[:5]"
   ]
  },
  {
   "cell_type": "code",
   "execution_count": 19,
   "metadata": {},
   "outputs": [],
   "source": [
    "# Use the famous SVD algorithm.\n",
    "algo = SVD()\n",
    "\n",
    "algo.fit(trainset)\n",
    "predictions = algo.test(testset)\n",
    "# Run 5-fold cross-validation and print results.\n",
    "#cross_validate(algo, data, measures=['RMSE', 'MAE'], cv=5, verbose=True)"
   ]
  },
  {
   "cell_type": "code",
   "execution_count": 20,
   "metadata": {},
   "outputs": [
    {
     "name": "stdout",
     "output_type": "stream",
     "text": [
      "RMSE: 0.9364\n"
     ]
    },
    {
     "data": {
      "text/plain": [
       "0.9363973521794091"
      ]
     },
     "execution_count": 20,
     "metadata": {},
     "output_type": "execute_result"
    }
   ],
   "source": [
    "accuracy.rmse(predictions)"
   ]
  },
  {
   "cell_type": "markdown",
   "metadata": {},
   "source": [
    "## Clustering: KMeans"
   ]
  },
  {
   "cell_type": "code",
   "execution_count": 21,
   "metadata": {},
   "outputs": [],
   "source": [
    "from sklearn.datasets import fetch_20newsgroups"
   ]
  },
  {
   "cell_type": "code",
   "execution_count": 22,
   "metadata": {},
   "outputs": [],
   "source": [
    "import nltk\n",
    "from nltk.cluster import KMeansClusterer"
   ]
  },
  {
   "cell_type": "code",
   "execution_count": 23,
   "metadata": {},
   "outputs": [],
   "source": [
    "from sklearn.base import BaseEstimator, TransformerMixin"
   ]
  },
  {
   "cell_type": "code",
   "execution_count": 24,
   "metadata": {},
   "outputs": [],
   "source": [
    "class KMeansClusters(BaseEstimator, TransformerMixin):\n",
    "    def __init__(self, k = 10):\n",
    "        self.k = k\n",
    "        self.distance = nltk.cluster.util.cosine_distance\n",
    "        self.model = KMeansClusterer(self.k, self.distance, avoid_empty_clusters=True)\n",
    "        \n",
    "    def fit(self, documents, labels=None):\n",
    "        return self\n",
    "    \n",
    "    def transform(self, documents):\n",
    "        return self.model.cluster(documents, assign_clusters=True)"
   ]
  },
  {
   "cell_type": "code",
   "execution_count": 25,
   "metadata": {},
   "outputs": [],
   "source": [
    "clust = KMeansClusters()"
   ]
  },
  {
   "cell_type": "code",
   "execution_count": 26,
   "metadata": {},
   "outputs": [],
   "source": [
    "from sklearn.feature_extraction.text import TfidfTransformer"
   ]
  },
  {
   "cell_type": "code",
   "execution_count": 27,
   "metadata": {},
   "outputs": [],
   "source": [
    "tfdif = TfidfTransformer()"
   ]
  },
  {
   "cell_type": "code",
   "execution_count": 28,
   "metadata": {},
   "outputs": [
    {
     "data": {
      "text/plain": [
       "(970, 150)"
      ]
     },
     "execution_count": 28,
     "metadata": {},
     "output_type": "execute_result"
    }
   ],
   "source": [
    "from sklearn.feature_extraction.text import TfidfVectorizer\n",
    "categories = ['talk.religion.misc','sci.space']\n",
    "newsgroups_train = fetch_20newsgroups(subset='train',\n",
    "                                      categories=categories)\n",
    "vectorizer = TfidfVectorizer(max_features=150)\n",
    "vectors = vectorizer.fit_transform(newsgroups_train.data)\n",
    "vectors.shape"
   ]
  },
  {
   "cell_type": "code",
   "execution_count": 29,
   "metadata": {},
   "outputs": [
    {
     "data": {
      "text/plain": [
       "KMeansClusters(k=10)"
      ]
     },
     "execution_count": 29,
     "metadata": {},
     "output_type": "execute_result"
    }
   ],
   "source": [
    "clust.fit(vectors)"
   ]
  },
  {
   "cell_type": "code",
   "execution_count": 30,
   "metadata": {},
   "outputs": [
    {
     "data": {
      "text/plain": [
       "{'k': 10}"
      ]
     },
     "execution_count": 30,
     "metadata": {},
     "output_type": "execute_result"
    }
   ],
   "source": [
    "clust.get_params()"
   ]
  },
  {
   "cell_type": "code",
   "execution_count": 31,
   "metadata": {},
   "outputs": [],
   "source": [
    "clusters = clust.fit_transform(vectors.toarray())"
   ]
  },
  {
   "cell_type": "code",
   "execution_count": 32,
   "metadata": {},
   "outputs": [],
   "source": [
    "bars = np.unique(clusters, return_counts=True)"
   ]
  },
  {
   "cell_type": "code",
   "execution_count": 33,
   "metadata": {},
   "outputs": [
    {
     "data": {
      "text/plain": [
       "<BarContainer object of 10 artists>"
      ]
     },
     "execution_count": 33,
     "metadata": {},
     "output_type": "execute_result"
    },
    {
     "data": {
      "image/png": "[encoded data removed]",
      "text/plain": [
       "<Figure size 432x288 with 1 Axes>"
      ]
     },
     "metadata": {},
     "output_type": "display_data"
    }
   ],
   "source": [
    "plt.bar(bars[0], bars[1])"
   ]
  },
  {
   "cell_type": "markdown",
   "metadata": {},
   "source": [
    "### Heirarchical Clustering"
   ]
  },
  {
   "cell_type": "code",
   "execution_count": 34,
   "metadata": {},
   "outputs": [],
   "source": [
    "from sklearn.cluster import AgglomerativeClustering\n",
    "\n",
    "class HeirarchicalClusters(BaseEstimator, TransformerMixin):\n",
    "    def __init__(self, k = 10):\n",
    "        self.k = k\n",
    "        self.distance = nltk.cluster.util.cosine_distance\n",
    "        self.model = AgglomerativeClustering()\n",
    "        \n",
    "    def fit(self, documents, labels=None):\n",
    "        return self\n",
    "    \n",
    "    def transform(self, documents):\n",
    "        clusters = self.model.fit_predict(documents)\n",
    "        self.labels = self.model.labels_\n",
    "        self.children = self.model.children_\n",
    "        \n",
    "        return clusters"
   ]
  },
  {
   "cell_type": "code",
   "execution_count": 35,
   "metadata": {},
   "outputs": [],
   "source": [
    "hclusters = HeirarchicalClusters()"
   ]
  },
  {
   "cell_type": "code",
   "execution_count": 36,
   "metadata": {},
   "outputs": [
    {
     "data": {
      "text/plain": [
       "array([1, 1, 1, 0, 0, 0, 1, 0, 1, 0])"
      ]
     },
     "execution_count": 36,
     "metadata": {},
     "output_type": "execute_result"
    }
   ],
   "source": [
    "hclusters.fit_transform(vectors.toarray())[:10]"
   ]
  },
  {
   "cell_type": "code",
   "execution_count": 37,
   "metadata": {},
   "outputs": [],
   "source": [
    "from scipy.cluster.hierarchy import dendrogram"
   ]
  },
  {
   "cell_type": "code",
   "execution_count": 38,
   "metadata": {},
   "outputs": [],
   "source": [
    "def plot_dendrogram(children, **kwargs):\n",
    "    distance = position = np.arange(children.shape[0])\n",
    "    \n",
    "    linkage_matrix = np.column_stack([children, distance, position]).astype(float)\n",
    "    \n",
    "    fig, ax = plt.subplots(figsize = (15, 7))\n",
    "    ax = dendrogram(linkage_matrix, **kwargs)\n",
    "    plt.tick_params(axis = 'x', bottom = False, top=False, labelbottom=False)\n",
    "    plt.tight_layout()\n",
    "    plt.title('Agglomerative Clustering of 20 News Groups Data', loc = 'right', fontsize = 20)\n",
    "    plt.show()"
   ]
  },
  {
   "cell_type": "code",
   "execution_count": 39,
   "metadata": {},
   "outputs": [],
   "source": [
    "children = hclusters.children"
   ]
  },
  {
   "cell_type": "code",
   "execution_count": 40,
   "metadata": {},
   "outputs": [
    {
     "data": {
      "image/png": "[encoded data removed]",
      "text/plain": [
       "<Figure size 1080x504 with 1 Axes>"
      ]
     },
     "metadata": {},
     "output_type": "display_data"
    }
   ],
   "source": [
    "plot_dendrogram(children)"
   ]
  },
  {
   "cell_type": "markdown",
   "metadata": {},
   "source": [
    "# CONSTRAINT SATISFACTION PROBLEMS\n",
    "\n",
    "Three Components:\n",
    "\n",
    "- $X$ is a set of variables, ${X_1, ..., X_n}$\n",
    "- $D$ is a set of domains, ${D_1, ..., D_n}$, one for each variable.\n",
    "- $C$ is a set of constraints that specify allowable combinations of values."
   ]
  },
  {
   "cell_type": "markdown",
   "metadata": {},
   "source": [
    "### Diophantine Equations\n",
    "\n",
    "$$Ax + By = C$$\n",
    "\n",
    "Where $A, B$, and $C$ are integers.  \n"
   ]
  },
  {
   "cell_type": "markdown",
   "metadata": {},
   "source": [
    "### Euclidean Algorithm\n",
    "\n",
    "<center>\n",
    "<img src = https://upload.wikimedia.org/wikipedia/commons/9/9e/Euklid.jpg width = 200 height = 100 />\n",
    "    </center>\n",
    "    \n",
    "The Euclidean algorithm recursively checks for divisibility based on remainders.\n",
    "\n",
    "$$r_{k-2} = q_kr_{k-1} + r_k$$\n",
    "\n",
    "This is essentially finding Greatest Common Divisors for the numbers.  Take for example the numbers 45 and 18.  \n",
    "\n",
    "\n"
   ]
  },
  {
   "cell_type": "code",
   "execution_count": 41,
   "metadata": {},
   "outputs": [],
   "source": [
    "def gcd(a, b):\n",
    "    while b != 0:\n",
    "        t = b\n",
    "        b = a%b\n",
    "        a = t\n",
    "    return a"
   ]
  },
  {
   "cell_type": "code",
   "execution_count": 42,
   "metadata": {},
   "outputs": [
    {
     "data": {
      "text/plain": [
       "9"
      ]
     },
     "execution_count": 42,
     "metadata": {},
     "output_type": "execute_result"
    }
   ],
   "source": [
    "gcd(45, 18)"
   ]
  },
  {
   "cell_type": "code",
   "execution_count": 43,
   "metadata": {},
   "outputs": [],
   "source": [
    "def gcd(a, b):\n",
    "    while a != b:\n",
    "        if a > b:\n",
    "            a = a -b\n",
    "        else:\n",
    "            b = b - a\n",
    "    return a"
   ]
  },
  {
   "cell_type": "code",
   "execution_count": 44,
   "metadata": {},
   "outputs": [
    {
     "data": {
      "text/plain": [
       "9"
      ]
     },
     "execution_count": 44,
     "metadata": {},
     "output_type": "execute_result"
    }
   ],
   "source": [
    "gcd(45, 18)"
   ]
  },
  {
   "cell_type": "code",
   "execution_count": 45,
   "metadata": {},
   "outputs": [],
   "source": [
    "from csp import *\n",
    "\n",
    "%matplotlib inline\n",
    "\n",
    "# Hide warnings in the matplotlib sections\n",
    "import warnings\n",
    "warnings.filterwarnings(\"ignore\")"
   ]
  },
  {
   "cell_type": "markdown",
   "metadata": {},
   "source": [
    "## OVERVIEW of CSP's\n",
    "\n",
    "CSPs are a special kind of search problems. Here we don't treat the space as a black box but the state has a particular form and we use that to our advantage to tweak our algorithms to be more suited to the problems. A CSP State is defined by a set of variables which can take values from corresponding domains. These variables can take only certain values in their domains to satisfy the constraints. A set of assignments which satisfies all constraints passes the goal test. Let us start by exploring the CSP class which we will use to model our CSPs. You can keep the popup open and read the main page to get a better idea of the code."
   ]
  },
  {
   "cell_type": "markdown",
   "metadata": {},
   "source": [
    "The __ _ _init_ _ __ method parameters specify the CSP. Variables can be passed as a list of strings or integers. Domains are passed as dict (dictionary datatpye) where \"key\" specifies the variables and \"value\" specifies the domains. The variables are passed as an empty list. Variables are extracted from the keys of the domain dictionary. Neighbor is a dict of variables that essentially describes the constraint graph. Here each variable key has a list of its values which are the variables that are constraint along with it. The constraint parameter should be a function **f(A, a, B, b**) that **returns true** if neighbors A, B **satisfy the constraint** when they have values **A=a, B=b**. We have additional parameters like nassings which is incremented each time an assignment is made when calling the assign method. You can read more about the methods and parameters in the class doc string. We will talk more about them as we encounter their use. Let us jump to an example."
   ]
  },
  {
   "cell_type": "markdown",
   "metadata": {},
   "source": [
    "## GRAPH COLORING\n",
    "\n",
    "We use the graph coloring problem as our running example for demonstrating the different algorithms in the **csp module**. The idea of map coloring problem is that the adjacent nodes (those connected by edges) should not have the same color throughout the graph. The graph can be colored using a fixed number of colors. Here each node is a variable and the values are the colors that can be assigned to them. Given that the domain will be the same for all our nodes we use a custom dict defined by the **UniversalDict** class. The **UniversalDict** Class takes in a parameter and returns it as a value for all the keys of the dict. It is very similar to **defaultdict** in Python except that it does not support item assignment."
   ]
  },
  {
   "cell_type": "code",
   "execution_count": 46,
   "metadata": {},
   "outputs": [
    {
     "data": {
      "text/plain": [
       "['R', 'G', 'B']"
      ]
     },
     "execution_count": 46,
     "metadata": {},
     "output_type": "execute_result"
    }
   ],
   "source": [
    "s = UniversalDict(['R','G','B'])\n",
    "s[5]"
   ]
  },
  {
   "cell_type": "markdown",
   "metadata": {},
   "source": [
    "For our CSP we also need to define a constraint function **f(A, a, B, b)**. In this, we need to ensure that the neighbors don't have the same color. This is defined in the function **different_values_constraint** of the module."
   ]
  },
  {
   "cell_type": "markdown",
   "metadata": {},
   "source": [
    "The CSP class takes neighbors in the form of a Dict. The module specifies a simple helper function named **parse_neighbors** which allows us to take input in the form of strings and return a Dict of a form that is compatible with the **CSP Class**."
   ]
  },
  {
   "cell_type": "markdown",
   "metadata": {},
   "source": [
    "The **MapColoringCSP** function creates and returns a CSP with the above constraint function and states. The variables are the keys of the neighbors dict and the constraint is the one specified by the **different_values_constratint** function. **Australia**, **USA** and **France** are three CSPs that have been created using **MapColoringCSP**. **Australia** corresponds to ** Figure 6.1 ** in the book."
   ]
  },
  {
   "cell_type": "code",
   "execution_count": 47,
   "metadata": {},
   "outputs": [
    {
     "data": {
      "text/plain": [
       "(<csp.CSP at 0x124da79b0>, <csp.CSP at 0x126fd4eb8>, <csp.CSP at 0x126ffa080>)"
      ]
     },
     "execution_count": 47,
     "metadata": {},
     "output_type": "execute_result"
    }
   ],
   "source": [
    "australia, usa, france"
   ]
  },
  {
   "cell_type": "markdown",
   "metadata": {},
   "source": [
    "## N-QUEENS\n",
    "\n",
    "The N-queens puzzle is the problem of placing N chess queens on an N×N chessboard in a way such that no two queens threaten each other. Here N is a natural number. Like the graph coloring problem, NQueens is also implemented in the csp module. The **NQueensCSP** class inherits from the **CSP** class. It makes some modifications in the methods to suit this particular problem. The queens are assumed to be placed one per column, from left to right. That means position (x, y) represents (var, val) in the CSP. The constraint that needs to be passed to the CSP is defined in the **queen_constraint** function. The constraint is satisfied (true) if A, B are really the same variable, or if they are not in the same row, down diagonal, or up diagonal. "
   ]
  },
  {
   "cell_type": "markdown",
   "metadata": {},
   "source": [
    "The **NQueensCSP** method implements methods that support solving the problem via **min_conflicts** which is one of the many popular techniques for solving CSPs. Because **min_conflicts** hill climbs the number of conflicts to solve, the CSP **assign** and **unassign** are modified to record conflicts. More details about the structures: **rows**, **downs**, **ups** which help in recording conflicts are explained in the docstring."
   ]
  },
  {
   "cell_type": "markdown",
   "metadata": {},
   "source": [
    "The _ ___init___ _ method takes only one parameter **n** i.e. the size of the problem. To create an instance, we just pass the required value of n into the constructor."
   ]
  },
  {
   "cell_type": "code",
   "execution_count": 48,
   "metadata": {},
   "outputs": [],
   "source": [
    "eight_queens = NQueensCSP(8)"
   ]
  },
  {
   "cell_type": "markdown",
   "metadata": {},
   "source": [
    "We have defined our CSP. \n",
    "Now, we need to solve this.\n",
    "\n",
    "### Min-conflicts\n",
    "As stated above, the `min_conflicts` algorithm is an efficient method to solve such a problem.\n",
    "<br>\n",
    "In the start, all the variables of the CSP are _randomly_ initialized. \n",
    "<br>\n",
    "The algorithm then randomly selects a variable that has conflicts and violates some constraints of the CSP.\n",
    "<br>\n",
    "The selected variable is then assigned a value that _minimizes_ the number of conflicts.\n",
    "<br>\n",
    "This is a simple **stochastic algorithm** which works on a principle similar to **Hill-climbing**.\n",
    "The conflicting state is repeatedly changed into a state with fewer conflicts in an attempt to reach an approximate solution.\n",
    "<br>\n",
    "This algorithm sometimes benefits from having a good initial assignment.\n",
    "Using greedy techniques to get a good initial assignment and then using `min_conflicts` to solve the CSP can speed up the procedure dramatically, especially for CSPs with a large state space."
   ]
  },
  {
   "cell_type": "markdown",
   "metadata": {},
   "source": [
    "Let's use this algorithm  to solve the `eight_queens` CSP."
   ]
  },
  {
   "cell_type": "code",
   "execution_count": 49,
   "metadata": {},
   "outputs": [],
   "source": [
    "solution = min_conflicts(eight_queens)"
   ]
  },
  {
   "cell_type": "code",
   "execution_count": 50,
   "metadata": {},
   "outputs": [
    {
     "data": {
      "text/plain": [
       "{0: 3, 1: 0, 2: 4, 3: 7, 4: 5, 5: 2, 6: 6, 7: 1}"
      ]
     },
     "execution_count": 50,
     "metadata": {},
     "output_type": "execute_result"
    }
   ],
   "source": [
    "solution"
   ]
  },
  {
   "cell_type": "markdown",
   "metadata": {},
   "source": [
    "This is indeed a valid solution. \n",
    "<br>\n",
    "`notebook.py` has a helper function to visualize the solution space."
   ]
  },
  {
   "cell_type": "markdown",
   "metadata": {},
   "source": [
    "### Helper Functions\n",
    "\n",
    "We will now implement a few helper functions that will allow us to visualize the Coloring Problem; we'll also make a few modifications to the existing classes and functions for additional record keeping. To begin, we modify the **assign** and **unassign** methods in the **CSP** in order to add a copy of the assignment to the **assignment_history**. We name this new class as **InstruCSP**; it will allow us to see how the assignment evolves over time. "
   ]
  },
  {
   "cell_type": "code",
   "execution_count": 51,
   "metadata": {},
   "outputs": [],
   "source": [
    "import copy\n",
    "class InstruCSP(CSP):\n",
    "    \n",
    "    def __init__(self, variables, domains, neighbors, constraints):\n",
    "        super().__init__(variables, domains, neighbors, constraints)\n",
    "        self.assignment_history = []\n",
    "        \n",
    "    def assign(self, var, val, assignment):\n",
    "        super().assign(var,val, assignment)\n",
    "        self.assignment_history.append(copy.deepcopy(assignment))\n",
    "    \n",
    "    def unassign(self, var, assignment):\n",
    "        super().unassign(var,assignment)\n",
    "        self.assignment_history.append(copy.deepcopy(assignment))"
   ]
  },
  {
   "cell_type": "markdown",
   "metadata": {},
   "source": [
    "Next, we define **make_instru** which takes an instance of **CSP** and returns an instance of **InstruCSP**."
   ]
  },
  {
   "cell_type": "code",
   "execution_count": 52,
   "metadata": {},
   "outputs": [],
   "source": [
    "def make_instru(csp):\n",
    "    return InstruCSP(csp.variables, csp.domains, csp.neighbors, csp.constraints)"
   ]
  },
  {
   "cell_type": "markdown",
   "metadata": {},
   "source": [
    "We will now use a graph defined as a dictionary for plotting purposes in our Graph Coloring Problem. The keys are the nodes and their values are the corresponding nodes they are connected to."
   ]
  },
  {
   "cell_type": "code",
   "execution_count": 53,
   "metadata": {},
   "outputs": [],
   "source": [
    "neighbors = {\n",
    "    0: [6, 11, 15, 18, 4, 11, 6, 15, 18, 4], \n",
    "    1: [12, 12, 14, 14], \n",
    "    2: [17, 6, 11, 6, 11, 10, 17, 14, 10, 14], \n",
    "    3: [20, 8, 19, 12, 20, 19, 8, 12], \n",
    "    4: [11, 0, 18, 5, 18, 5, 11, 0], \n",
    "    5: [4, 4], \n",
    "    6: [8, 15, 0, 11, 2, 14, 8, 11, 15, 2, 0, 14], \n",
    "    7: [13, 16, 13, 16], \n",
    "    8: [19, 15, 6, 14, 12, 3, 6, 15, 19, 12, 3, 14], \n",
    "    9: [20, 15, 19, 16, 15, 19, 20, 16], \n",
    "    10: [17, 11, 2, 11, 17, 2], \n",
    "    11: [6, 0, 4, 10, 2, 6, 2, 0, 10, 4], \n",
    "    12: [8, 3, 8, 14, 1, 3, 1, 14], \n",
    "    13: [7, 15, 18, 15, 16, 7, 18, 16], \n",
    "    14: [8, 6, 2, 12, 1, 8, 6, 2, 1, 12], \n",
    "    15: [8, 6, 16, 13, 18, 0, 6, 8, 19, 9, 0, 19, 13, 18, 9, 16], \n",
    "    16: [7, 15, 13, 9, 7, 13, 15, 9], \n",
    "    17: [10, 2, 2, 10], \n",
    "    18: [15, 0, 13, 4, 0, 15, 13, 4], \n",
    "    19: [20, 8, 15, 9, 15, 8, 3, 20, 3, 9], \n",
    "    20: [3, 19, 9, 19, 3, 9]\n",
    "}"
   ]
  },
  {
   "cell_type": "markdown",
   "metadata": {},
   "source": [
    "Now we are ready to create an InstruCSP instance for our problem. We are doing this for an instance of **MapColoringProblem** class which inherits from the **CSP** Class. This means that our **make_instru** function will work perfectly for it."
   ]
  },
  {
   "cell_type": "code",
   "execution_count": 54,
   "metadata": {},
   "outputs": [],
   "source": [
    "coloring_problem = MapColoringCSP('RGBY', neighbors)"
   ]
  },
  {
   "cell_type": "code",
   "execution_count": 55,
   "metadata": {},
   "outputs": [],
   "source": [
    "coloring_problem1 = make_instru(coloring_problem)"
   ]
  },
  {
   "cell_type": "markdown",
   "metadata": {},
   "source": [
    "## BACKTRACKING SEARCH\n",
    "\n",
    "The main issue with using Naive Search Algorithms to solve a CSP is that they can continue to expand obviously wrong paths; whereas, in **backtracking search**, we check the constraints as we go and we deal with only one variable at a time. Backtracking Search is implemented in the repository as the function **backtracking_search**. This is the same as **Figure 6.5** in the book. The function takes as input a CSP and a few other optional parameters which can be used to speed it up further. The function returns the correct assignment if it satisfies the goal. However, we will discuss these later. For now, let us solve our **coloring_problem1** with **backtracking_search**."
   ]
  },
  {
   "cell_type": "markdown",
   "metadata": {},
   "source": [
    "- Is a partial solution constructable?\n",
    "\n",
    "- Can we check partial solution?\n",
    "\n",
    "- Verify if solution is complete?"
   ]
  },
  {
   "cell_type": "markdown",
   "metadata": {},
   "source": [
    "### Flight Path\n",
    "\n",
    "- Given: Unordered list of flights `(origin, destination)` compute possible itinerary.  \n",
    "\n",
    "```\n",
    "[('SFO', 'HKO'), ('YYZ', 'SFO'), ('YUL', 'YYZ'), ('HKO', 'ORD')]\n",
    "```\n",
    "\n",
    "If we have items starting with `YUL`, we should return the list\n",
    "\n",
    "```\n",
    "['YUL', 'YYZ', 'SFO', 'HKO', 'ORD']\n",
    "```\n",
    "\n"
   ]
  },
  {
   "cell_type": "markdown",
   "metadata": {},
   "source": [
    "**Partial solution**: Build itinerary and extend it.\n",
    "\n",
    "**Verify**: If no flights leave from final destination and there are flights remaining.\n",
    "\n",
    "**Complete**: If we use all flights."
   ]
  },
  {
   "cell_type": "code",
   "execution_count": 56,
   "metadata": {},
   "outputs": [],
   "source": [
    "def get_itinerary(flights, current_itinerary):\n",
    "    #Check if flights remain\n",
    "    if not flights:\n",
    "        return current_itinerary\n",
    "    last_stop = current_itinerary[-1]\n",
    "    for i, (origin, destination) in enumerate(flights):\n",
    "         \n",
    "        flights_minus_current = flights[:i] + flights[i + 1:]\n",
    "        current_itinerary.append(destination)\n",
    "        if origin == last_stop:\n",
    "            return get_itinerary(flights_minus_current, current_itinerary)\n",
    "        current_itinerary.pop()\n",
    "    \n",
    "    return None"
   ]
  },
  {
   "cell_type": "code",
   "execution_count": 57,
   "metadata": {},
   "outputs": [],
   "source": [
    "flights = [('SFO', 'HKO'), ('YYZ', 'SFO'), ('YUL', 'YYZ'), ('HKO', 'ORD')]"
   ]
  },
  {
   "cell_type": "code",
   "execution_count": 58,
   "metadata": {},
   "outputs": [
    {
     "data": {
      "text/plain": [
       "['YUL', 'YYZ', 'SFO', 'HKO', 'ORD']"
      ]
     },
     "execution_count": 58,
     "metadata": {},
     "output_type": "execute_result"
    }
   ],
   "source": [
    "get_itinerary(flights, ['YUL'])"
   ]
  },
  {
   "cell_type": "markdown",
   "metadata": {},
   "source": [
    "### `aima` implementation"
   ]
  },
  {
   "cell_type": "code",
   "execution_count": 59,
   "metadata": {},
   "outputs": [],
   "source": [
    "result = backtracking_search(coloring_problem1)"
   ]
  },
  {
   "cell_type": "code",
   "execution_count": 60,
   "metadata": {},
   "outputs": [
    {
     "data": {
      "text/plain": [
       "{0: 'R',\n",
       " 1: 'R',\n",
       " 2: 'R',\n",
       " 3: 'R',\n",
       " 4: 'G',\n",
       " 5: 'R',\n",
       " 6: 'G',\n",
       " 7: 'R',\n",
       " 8: 'B',\n",
       " 9: 'R',\n",
       " 10: 'G',\n",
       " 11: 'B',\n",
       " 12: 'G',\n",
       " 13: 'G',\n",
       " 14: 'Y',\n",
       " 15: 'Y',\n",
       " 16: 'B',\n",
       " 17: 'B',\n",
       " 18: 'B',\n",
       " 19: 'G',\n",
       " 20: 'B'}"
      ]
     },
     "execution_count": 60,
     "metadata": {},
     "output_type": "execute_result"
    }
   ],
   "source": [
    "result # A dictonary of assignments."
   ]
  },
  {
   "cell_type": "markdown",
   "metadata": {},
   "source": [
    "Let us also check the number of assignments made."
   ]
  },
  {
   "cell_type": "code",
   "execution_count": 61,
   "metadata": {},
   "outputs": [
    {
     "data": {
      "text/plain": [
       "21"
      ]
     },
     "execution_count": 61,
     "metadata": {},
     "output_type": "execute_result"
    }
   ],
   "source": [
    "coloring_problem1.nassigns"
   ]
  },
  {
   "cell_type": "markdown",
   "metadata": {},
   "source": [
    "Now, let us check the total number of assignments and unassignments, which would be the length of our assignment history. We can see it by using the command below. "
   ]
  },
  {
   "cell_type": "code",
   "execution_count": 62,
   "metadata": {},
   "outputs": [
    {
     "data": {
      "text/plain": [
       "21"
      ]
     },
     "execution_count": 62,
     "metadata": {},
     "output_type": "execute_result"
    }
   ],
   "source": [
    "len(coloring_problem1.assignment_history)"
   ]
  },
  {
   "cell_type": "markdown",
   "metadata": {},
   "source": [
    "Now let us explore the optional keyword arguments that the **backtracking_search** function takes. These optional arguments help speed up the assignment further. Along with these, we will also point out the methods in the CSP class that help to make this work. \n",
    "\n",
    "The first one is **select_unassigned_variable**. It takes in, as a parameter, a function that helps in deciding the order in which the variables will be selected for assignment. We use a heuristic called Most Restricted Variable which is implemented by the function **mrv**. The idea behind **mrv** is to choose the variable with the least legal values left in its domain. The intuition behind selecting the **mrv** or the most constrained variable is that it allows us to encounter failure quickly before going too deep into a tree if we have selected a wrong step before. The **mrv** implementation makes use of another function **num_legal_values** to sort out the variables by the number of legal values left in its domain. This function, in turn, calls the **nconflicts** method of the **CSP** to return such values."
   ]
  },
  {
   "cell_type": "markdown",
   "metadata": {},
   "source": [
    "Another ordering related parameter **order_domain_values** governs the value ordering. Here we select the Least Constraining Value which is implemented by the function **lcv**. The idea is to select the value which rules out least number of values in the remaining variables. The intuition behind selecting the **lcv** is that it allows a lot of freedom to assign values later. The idea behind selecting the mrc and lcv makes sense because we need to do all variables but for values, and it's better to try the ones that are likely. So for vars, we face the hard ones first."
   ]
  },
  {
   "cell_type": "markdown",
   "metadata": {},
   "source": [
    "Finally, the third parameter **inference** can make use of one of the two techniques called Arc Consistency or Forward Checking. The details of these methods can be found in the **Section 6.3.2** of the book. In short the idea of inference is to detect the possible failure before it occurs and to look ahead to not make mistakes. **mac** and **forward_checking** implement these two techniques. The **CSP** methods **support_pruning**, **suppose**, **prune**, **choices**, **infer_assignment** and **restore** help in using these techniques. You can find out more about these by looking up the source code."
   ]
  },
  {
   "cell_type": "markdown",
   "metadata": {},
   "source": [
    "Now let us compare the performance with these parameters enabled vs the default parameters. We will use the Graph Coloring problem instance 'usa' for comparison. We will call the instances **solve_simple** and **solve_parameters** and solve them using backtracking and compare the number of assignments."
   ]
  },
  {
   "cell_type": "code",
   "execution_count": 63,
   "metadata": {},
   "outputs": [],
   "source": [
    "solve_simple = copy.deepcopy(usa)\n",
    "solve_parameters = copy.deepcopy(usa)"
   ]
  },
  {
   "cell_type": "code",
   "execution_count": 64,
   "metadata": {},
   "outputs": [
    {
     "data": {
      "text/plain": [
       "{'AL': 'R',\n",
       " 'AR': 'R',\n",
       " 'AZ': 'G',\n",
       " 'CA': 'Y',\n",
       " 'CO': 'G',\n",
       " 'CT': 'R',\n",
       " 'DC': 'R',\n",
       " 'DE': 'G',\n",
       " 'FL': 'B',\n",
       " 'GA': 'G',\n",
       " 'IA': 'R',\n",
       " 'ID': 'G',\n",
       " 'IL': 'B',\n",
       " 'IN': 'G',\n",
       " 'KA': 'R',\n",
       " 'KY': 'R',\n",
       " 'LA': 'B',\n",
       " 'MA': 'B',\n",
       " 'MD': 'B',\n",
       " 'ME': 'R',\n",
       " 'MI': 'R',\n",
       " 'MN': 'B',\n",
       " 'MO': 'G',\n",
       " 'MS': 'G',\n",
       " 'MT': 'B',\n",
       " 'NC': 'R',\n",
       " 'ND': 'R',\n",
       " 'NE': 'B',\n",
       " 'NH': 'G',\n",
       " 'NJ': 'B',\n",
       " 'NM': 'R',\n",
       " 'NV': 'R',\n",
       " 'NY': 'G',\n",
       " 'OH': 'B',\n",
       " 'OK': 'B',\n",
       " 'OR': 'B',\n",
       " 'PA': 'R',\n",
       " 'RI': 'G',\n",
       " 'SC': 'B',\n",
       " 'SD': 'G',\n",
       " 'TN': 'B',\n",
       " 'TX': 'G',\n",
       " 'UT': 'B',\n",
       " 'VA': 'Y',\n",
       " 'VT': 'R',\n",
       " 'WA': 'R',\n",
       " 'WI': 'G',\n",
       " 'WV': 'G',\n",
       " 'WY': 'R'}"
      ]
     },
     "execution_count": 64,
     "metadata": {},
     "output_type": "execute_result"
    }
   ],
   "source": [
    "backtracking_search(solve_simple)\n",
    "backtracking_search(solve_parameters, order_domain_values=lcv, select_unassigned_variable=mrv, inference=mac)"
   ]
  },
  {
   "cell_type": "code",
   "execution_count": 65,
   "metadata": {},
   "outputs": [
    {
     "data": {
      "text/plain": [
       "49"
      ]
     },
     "execution_count": 65,
     "metadata": {},
     "output_type": "execute_result"
    }
   ],
   "source": [
    "solve_simple.nassigns"
   ]
  },
  {
   "cell_type": "code",
   "execution_count": 66,
   "metadata": {},
   "outputs": [
    {
     "data": {
      "text/plain": [
       "49"
      ]
     },
     "execution_count": 66,
     "metadata": {},
     "output_type": "execute_result"
    }
   ],
   "source": [
    "solve_parameters.nassigns"
   ]
  }
 ],
 "metadata": {
  "kernelspec": {
   "display_name": "Python 3",
   "language": "python",
   "name": "python3"
  },
  "language_info": {
   "codemirror_mode": {
    "name": "ipython",
    "version": 3
   },
   "file_extension": ".py",
   "mimetype": "text/x-python",
   "name": "python",
   "nbconvert_exporter": "python",
   "pygments_lexer": "ipython3",
   "version": "3.7.3"
  }
 },
 "nbformat": 4,
 "nbformat_minor": 4
}
