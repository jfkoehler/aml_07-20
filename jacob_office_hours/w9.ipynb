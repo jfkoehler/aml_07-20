{
 "cells": [
  {
   "cell_type": "markdown",
   "metadata": {},
   "source": [
    "# Recommendation Systems"
   ]
  },
  {
   "cell_type": "code",
   "execution_count": 1,
   "metadata": {},
   "outputs": [],
   "source": [
    "import pandas as pd\n",
    "import scipy\n",
    "from sklearn.metrics.pairwise import pairwise_distances"
   ]
  },
  {
   "cell_type": "code",
   "execution_count": 2,
   "metadata": {},
   "outputs": [
    {
     "data": {
      "text/html": [
       "<div>\n",
       "<style scoped>\n",
       "    .dataframe tbody tr th:only-of-type {\n",
       "        vertical-align: middle;\n",
       "    }\n",
       "\n",
       "    .dataframe tbody tr th {\n",
       "        vertical-align: top;\n",
       "    }\n",
       "\n",
       "    .dataframe thead th {\n",
       "        text-align: right;\n",
       "    }\n",
       "</style>\n",
       "<table border=\"1\" class=\"dataframe\">\n",
       "  <thead>\n",
       "    <tr style=\"text-align: right;\">\n",
       "      <th></th>\n",
       "      <th>movieId</th>\n",
       "      <th>title</th>\n",
       "      <th>genres</th>\n",
       "    </tr>\n",
       "  </thead>\n",
       "  <tbody>\n",
       "    <tr>\n",
       "      <td>0</td>\n",
       "      <td>1</td>\n",
       "      <td>Toy Story (1995)</td>\n",
       "      <td>Adventure|Animation|Children|Comedy|Fantasy</td>\n",
       "    </tr>\n",
       "    <tr>\n",
       "      <td>1</td>\n",
       "      <td>2</td>\n",
       "      <td>Jumanji (1995)</td>\n",
       "      <td>Adventure|Children|Fantasy</td>\n",
       "    </tr>\n",
       "    <tr>\n",
       "      <td>2</td>\n",
       "      <td>3</td>\n",
       "      <td>Grumpier Old Men (1995)</td>\n",
       "      <td>Comedy|Romance</td>\n",
       "    </tr>\n",
       "    <tr>\n",
       "      <td>3</td>\n",
       "      <td>4</td>\n",
       "      <td>Waiting to Exhale (1995)</td>\n",
       "      <td>Comedy|Drama|Romance</td>\n",
       "    </tr>\n",
       "    <tr>\n",
       "      <td>4</td>\n",
       "      <td>5</td>\n",
       "      <td>Father of the Bride Part II (1995)</td>\n",
       "      <td>Comedy</td>\n",
       "    </tr>\n",
       "  </tbody>\n",
       "</table>\n",
       "</div>"
      ],
      "text/plain": [
       "   movieId                               title  \\\n",
       "0        1                    Toy Story (1995)   \n",
       "1        2                      Jumanji (1995)   \n",
       "2        3             Grumpier Old Men (1995)   \n",
       "3        4            Waiting to Exhale (1995)   \n",
       "4        5  Father of the Bride Part II (1995)   \n",
       "\n",
       "                                        genres  \n",
       "0  Adventure|Animation|Children|Comedy|Fantasy  \n",
       "1                   Adventure|Children|Fantasy  \n",
       "2                               Comedy|Romance  \n",
       "3                         Comedy|Drama|Romance  \n",
       "4                                       Comedy  "
      ]
     },
     "execution_count": 2,
     "metadata": {},
     "output_type": "execute_result"
    }
   ],
   "source": [
    "movies = pd.read_csv('data/movies.csv')\n",
    "movies.head()"
   ]
  },
  {
   "cell_type": "code",
   "execution_count": 3,
   "metadata": {},
   "outputs": [
    {
     "data": {
      "text/html": [
       "<div>\n",
       "<style scoped>\n",
       "    .dataframe tbody tr th:only-of-type {\n",
       "        vertical-align: middle;\n",
       "    }\n",
       "\n",
       "    .dataframe tbody tr th {\n",
       "        vertical-align: top;\n",
       "    }\n",
       "\n",
       "    .dataframe thead th {\n",
       "        text-align: right;\n",
       "    }\n",
       "</style>\n",
       "<table border=\"1\" class=\"dataframe\">\n",
       "  <thead>\n",
       "    <tr style=\"text-align: right;\">\n",
       "      <th></th>\n",
       "      <th>userId</th>\n",
       "      <th>movieId</th>\n",
       "      <th>rating</th>\n",
       "      <th>timestamp</th>\n",
       "    </tr>\n",
       "  </thead>\n",
       "  <tbody>\n",
       "    <tr>\n",
       "      <td>0</td>\n",
       "      <td>1</td>\n",
       "      <td>1</td>\n",
       "      <td>4.0</td>\n",
       "      <td>964982703</td>\n",
       "    </tr>\n",
       "    <tr>\n",
       "      <td>1</td>\n",
       "      <td>1</td>\n",
       "      <td>3</td>\n",
       "      <td>4.0</td>\n",
       "      <td>964981247</td>\n",
       "    </tr>\n",
       "    <tr>\n",
       "      <td>2</td>\n",
       "      <td>1</td>\n",
       "      <td>6</td>\n",
       "      <td>4.0</td>\n",
       "      <td>964982224</td>\n",
       "    </tr>\n",
       "    <tr>\n",
       "      <td>3</td>\n",
       "      <td>1</td>\n",
       "      <td>47</td>\n",
       "      <td>5.0</td>\n",
       "      <td>964983815</td>\n",
       "    </tr>\n",
       "    <tr>\n",
       "      <td>4</td>\n",
       "      <td>1</td>\n",
       "      <td>50</td>\n",
       "      <td>5.0</td>\n",
       "      <td>964982931</td>\n",
       "    </tr>\n",
       "  </tbody>\n",
       "</table>\n",
       "</div>"
      ],
      "text/plain": [
       "   userId  movieId  rating  timestamp\n",
       "0       1        1     4.0  964982703\n",
       "1       1        3     4.0  964981247\n",
       "2       1        6     4.0  964982224\n",
       "3       1       47     5.0  964983815\n",
       "4       1       50     5.0  964982931"
      ]
     },
     "execution_count": 3,
     "metadata": {},
     "output_type": "execute_result"
    }
   ],
   "source": [
    "ratings = pd.read_csv('data/ratings.csv')\n",
    "ratings.head()"
   ]
  },
  {
   "cell_type": "code",
   "execution_count": 4,
   "metadata": {},
   "outputs": [],
   "source": [
    "ratings.drop('timestamp', axis = 1, inplace = True)\n",
    "movies.drop('genres', axis = 1, inplace = True)"
   ]
  },
  {
   "cell_type": "code",
   "execution_count": 5,
   "metadata": {},
   "outputs": [
    {
     "data": {
      "text/html": [
       "<div>\n",
       "<style scoped>\n",
       "    .dataframe tbody tr th:only-of-type {\n",
       "        vertical-align: middle;\n",
       "    }\n",
       "\n",
       "    .dataframe tbody tr th {\n",
       "        vertical-align: top;\n",
       "    }\n",
       "\n",
       "    .dataframe thead th {\n",
       "        text-align: right;\n",
       "    }\n",
       "</style>\n",
       "<table border=\"1\" class=\"dataframe\">\n",
       "  <thead>\n",
       "    <tr style=\"text-align: right;\">\n",
       "      <th></th>\n",
       "      <th>userId</th>\n",
       "      <th>movieId</th>\n",
       "      <th>rating</th>\n",
       "    </tr>\n",
       "  </thead>\n",
       "  <tbody>\n",
       "    <tr>\n",
       "      <td>0</td>\n",
       "      <td>1</td>\n",
       "      <td>1</td>\n",
       "      <td>4.0</td>\n",
       "    </tr>\n",
       "    <tr>\n",
       "      <td>1</td>\n",
       "      <td>1</td>\n",
       "      <td>3</td>\n",
       "      <td>4.0</td>\n",
       "    </tr>\n",
       "    <tr>\n",
       "      <td>2</td>\n",
       "      <td>1</td>\n",
       "      <td>6</td>\n",
       "      <td>4.0</td>\n",
       "    </tr>\n",
       "    <tr>\n",
       "      <td>3</td>\n",
       "      <td>1</td>\n",
       "      <td>47</td>\n",
       "      <td>5.0</td>\n",
       "    </tr>\n",
       "    <tr>\n",
       "      <td>4</td>\n",
       "      <td>1</td>\n",
       "      <td>50</td>\n",
       "      <td>5.0</td>\n",
       "    </tr>\n",
       "  </tbody>\n",
       "</table>\n",
       "</div>"
      ],
      "text/plain": [
       "   userId  movieId  rating\n",
       "0       1        1     4.0\n",
       "1       1        3     4.0\n",
       "2       1        6     4.0\n",
       "3       1       47     5.0\n",
       "4       1       50     5.0"
      ]
     },
     "execution_count": 5,
     "metadata": {},
     "output_type": "execute_result"
    }
   ],
   "source": [
    "ratings.head()"
   ]
  },
  {
   "cell_type": "code",
   "execution_count": 6,
   "metadata": {},
   "outputs": [
    {
     "data": {
      "text/html": [
       "<div>\n",
       "<style scoped>\n",
       "    .dataframe tbody tr th:only-of-type {\n",
       "        vertical-align: middle;\n",
       "    }\n",
       "\n",
       "    .dataframe tbody tr th {\n",
       "        vertical-align: top;\n",
       "    }\n",
       "\n",
       "    .dataframe thead th {\n",
       "        text-align: right;\n",
       "    }\n",
       "</style>\n",
       "<table border=\"1\" class=\"dataframe\">\n",
       "  <thead>\n",
       "    <tr style=\"text-align: right;\">\n",
       "      <th></th>\n",
       "      <th>movieId</th>\n",
       "      <th>title</th>\n",
       "    </tr>\n",
       "  </thead>\n",
       "  <tbody>\n",
       "    <tr>\n",
       "      <td>0</td>\n",
       "      <td>1</td>\n",
       "      <td>Toy Story (1995)</td>\n",
       "    </tr>\n",
       "    <tr>\n",
       "      <td>1</td>\n",
       "      <td>2</td>\n",
       "      <td>Jumanji (1995)</td>\n",
       "    </tr>\n",
       "    <tr>\n",
       "      <td>2</td>\n",
       "      <td>3</td>\n",
       "      <td>Grumpier Old Men (1995)</td>\n",
       "    </tr>\n",
       "    <tr>\n",
       "      <td>3</td>\n",
       "      <td>4</td>\n",
       "      <td>Waiting to Exhale (1995)</td>\n",
       "    </tr>\n",
       "    <tr>\n",
       "      <td>4</td>\n",
       "      <td>5</td>\n",
       "      <td>Father of the Bride Part II (1995)</td>\n",
       "    </tr>\n",
       "  </tbody>\n",
       "</table>\n",
       "</div>"
      ],
      "text/plain": [
       "   movieId                               title\n",
       "0        1                    Toy Story (1995)\n",
       "1        2                      Jumanji (1995)\n",
       "2        3             Grumpier Old Men (1995)\n",
       "3        4            Waiting to Exhale (1995)\n",
       "4        5  Father of the Bride Part II (1995)"
      ]
     },
     "execution_count": 6,
     "metadata": {},
     "output_type": "execute_result"
    }
   ],
   "source": [
    "movies.head()"
   ]
  },
  {
   "cell_type": "code",
   "execution_count": 7,
   "metadata": {},
   "outputs": [],
   "source": [
    "df = pd.merge(ratings, movies, on = 'movieId')"
   ]
  },
  {
   "cell_type": "code",
   "execution_count": 8,
   "metadata": {},
   "outputs": [
    {
     "data": {
      "text/html": [
       "<div>\n",
       "<style scoped>\n",
       "    .dataframe tbody tr th:only-of-type {\n",
       "        vertical-align: middle;\n",
       "    }\n",
       "\n",
       "    .dataframe tbody tr th {\n",
       "        vertical-align: top;\n",
       "    }\n",
       "\n",
       "    .dataframe thead th {\n",
       "        text-align: right;\n",
       "    }\n",
       "</style>\n",
       "<table border=\"1\" class=\"dataframe\">\n",
       "  <thead>\n",
       "    <tr style=\"text-align: right;\">\n",
       "      <th></th>\n",
       "      <th>userId</th>\n",
       "      <th>movieId</th>\n",
       "      <th>rating</th>\n",
       "      <th>title</th>\n",
       "    </tr>\n",
       "  </thead>\n",
       "  <tbody>\n",
       "    <tr>\n",
       "      <td>0</td>\n",
       "      <td>1</td>\n",
       "      <td>1</td>\n",
       "      <td>4.0</td>\n",
       "      <td>Toy Story (1995)</td>\n",
       "    </tr>\n",
       "    <tr>\n",
       "      <td>1</td>\n",
       "      <td>5</td>\n",
       "      <td>1</td>\n",
       "      <td>4.0</td>\n",
       "      <td>Toy Story (1995)</td>\n",
       "    </tr>\n",
       "    <tr>\n",
       "      <td>2</td>\n",
       "      <td>7</td>\n",
       "      <td>1</td>\n",
       "      <td>4.5</td>\n",
       "      <td>Toy Story (1995)</td>\n",
       "    </tr>\n",
       "    <tr>\n",
       "      <td>3</td>\n",
       "      <td>15</td>\n",
       "      <td>1</td>\n",
       "      <td>2.5</td>\n",
       "      <td>Toy Story (1995)</td>\n",
       "    </tr>\n",
       "    <tr>\n",
       "      <td>4</td>\n",
       "      <td>17</td>\n",
       "      <td>1</td>\n",
       "      <td>4.5</td>\n",
       "      <td>Toy Story (1995)</td>\n",
       "    </tr>\n",
       "  </tbody>\n",
       "</table>\n",
       "</div>"
      ],
      "text/plain": [
       "   userId  movieId  rating             title\n",
       "0       1        1     4.0  Toy Story (1995)\n",
       "1       5        1     4.0  Toy Story (1995)\n",
       "2       7        1     4.5  Toy Story (1995)\n",
       "3      15        1     2.5  Toy Story (1995)\n",
       "4      17        1     4.5  Toy Story (1995)"
      ]
     },
     "execution_count": 8,
     "metadata": {},
     "output_type": "execute_result"
    }
   ],
   "source": [
    "df.head()"
   ]
  },
  {
   "cell_type": "code",
   "execution_count": 9,
   "metadata": {},
   "outputs": [],
   "source": [
    "#item based\n",
    "item_df = pd.pivot_table(df, index='title', columns = 'userId', values = 'rating')\n",
    "user_df = pd.pivot_table(df, index = 'userId', columns = 'title', values = 'rating')"
   ]
  },
  {
   "cell_type": "code",
   "execution_count": 11,
   "metadata": {},
   "outputs": [
    {
     "data": {
      "text/html": [
       "<div>\n",
       "<style scoped>\n",
       "    .dataframe tbody tr th:only-of-type {\n",
       "        vertical-align: middle;\n",
       "    }\n",
       "\n",
       "    .dataframe tbody tr th {\n",
       "        vertical-align: top;\n",
       "    }\n",
       "\n",
       "    .dataframe thead th {\n",
       "        text-align: right;\n",
       "    }\n",
       "</style>\n",
       "<table border=\"1\" class=\"dataframe\">\n",
       "  <thead>\n",
       "    <tr style=\"text-align: right;\">\n",
       "      <th>userId</th>\n",
       "      <th>1</th>\n",
       "      <th>2</th>\n",
       "      <th>3</th>\n",
       "      <th>4</th>\n",
       "      <th>5</th>\n",
       "      <th>6</th>\n",
       "      <th>7</th>\n",
       "      <th>8</th>\n",
       "      <th>9</th>\n",
       "      <th>10</th>\n",
       "      <th>...</th>\n",
       "      <th>601</th>\n",
       "      <th>602</th>\n",
       "      <th>603</th>\n",
       "      <th>604</th>\n",
       "      <th>605</th>\n",
       "      <th>606</th>\n",
       "      <th>607</th>\n",
       "      <th>608</th>\n",
       "      <th>609</th>\n",
       "      <th>610</th>\n",
       "    </tr>\n",
       "    <tr>\n",
       "      <th>title</th>\n",
       "      <th></th>\n",
       "      <th></th>\n",
       "      <th></th>\n",
       "      <th></th>\n",
       "      <th></th>\n",
       "      <th></th>\n",
       "      <th></th>\n",
       "      <th></th>\n",
       "      <th></th>\n",
       "      <th></th>\n",
       "      <th></th>\n",
       "      <th></th>\n",
       "      <th></th>\n",
       "      <th></th>\n",
       "      <th></th>\n",
       "      <th></th>\n",
       "      <th></th>\n",
       "      <th></th>\n",
       "      <th></th>\n",
       "      <th></th>\n",
       "      <th></th>\n",
       "    </tr>\n",
       "  </thead>\n",
       "  <tbody>\n",
       "    <tr>\n",
       "      <td>'71 (2014)</td>\n",
       "      <td>0.0</td>\n",
       "      <td>0.0</td>\n",
       "      <td>0.0</td>\n",
       "      <td>0.0</td>\n",
       "      <td>0.0</td>\n",
       "      <td>0.0</td>\n",
       "      <td>0.0</td>\n",
       "      <td>0.0</td>\n",
       "      <td>0.0</td>\n",
       "      <td>0.0</td>\n",
       "      <td>...</td>\n",
       "      <td>0.0</td>\n",
       "      <td>0.0</td>\n",
       "      <td>0.0</td>\n",
       "      <td>0.0</td>\n",
       "      <td>0.0</td>\n",
       "      <td>0.0</td>\n",
       "      <td>0.0</td>\n",
       "      <td>0.0</td>\n",
       "      <td>0.0</td>\n",
       "      <td>4.0</td>\n",
       "    </tr>\n",
       "    <tr>\n",
       "      <td>'Hellboy': The Seeds of Creation (2004)</td>\n",
       "      <td>0.0</td>\n",
       "      <td>0.0</td>\n",
       "      <td>0.0</td>\n",
       "      <td>0.0</td>\n",
       "      <td>0.0</td>\n",
       "      <td>0.0</td>\n",
       "      <td>0.0</td>\n",
       "      <td>0.0</td>\n",
       "      <td>0.0</td>\n",
       "      <td>0.0</td>\n",
       "      <td>...</td>\n",
       "      <td>0.0</td>\n",
       "      <td>0.0</td>\n",
       "      <td>0.0</td>\n",
       "      <td>0.0</td>\n",
       "      <td>0.0</td>\n",
       "      <td>0.0</td>\n",
       "      <td>0.0</td>\n",
       "      <td>0.0</td>\n",
       "      <td>0.0</td>\n",
       "      <td>0.0</td>\n",
       "    </tr>\n",
       "    <tr>\n",
       "      <td>'Round Midnight (1986)</td>\n",
       "      <td>0.0</td>\n",
       "      <td>0.0</td>\n",
       "      <td>0.0</td>\n",
       "      <td>0.0</td>\n",
       "      <td>0.0</td>\n",
       "      <td>0.0</td>\n",
       "      <td>0.0</td>\n",
       "      <td>0.0</td>\n",
       "      <td>0.0</td>\n",
       "      <td>0.0</td>\n",
       "      <td>...</td>\n",
       "      <td>0.0</td>\n",
       "      <td>0.0</td>\n",
       "      <td>0.0</td>\n",
       "      <td>0.0</td>\n",
       "      <td>0.0</td>\n",
       "      <td>0.0</td>\n",
       "      <td>0.0</td>\n",
       "      <td>0.0</td>\n",
       "      <td>0.0</td>\n",
       "      <td>0.0</td>\n",
       "    </tr>\n",
       "    <tr>\n",
       "      <td>'Salem's Lot (2004)</td>\n",
       "      <td>0.0</td>\n",
       "      <td>0.0</td>\n",
       "      <td>0.0</td>\n",
       "      <td>0.0</td>\n",
       "      <td>0.0</td>\n",
       "      <td>0.0</td>\n",
       "      <td>0.0</td>\n",
       "      <td>0.0</td>\n",
       "      <td>0.0</td>\n",
       "      <td>0.0</td>\n",
       "      <td>...</td>\n",
       "      <td>0.0</td>\n",
       "      <td>0.0</td>\n",
       "      <td>0.0</td>\n",
       "      <td>0.0</td>\n",
       "      <td>0.0</td>\n",
       "      <td>0.0</td>\n",
       "      <td>0.0</td>\n",
       "      <td>0.0</td>\n",
       "      <td>0.0</td>\n",
       "      <td>0.0</td>\n",
       "    </tr>\n",
       "    <tr>\n",
       "      <td>'Til There Was You (1997)</td>\n",
       "      <td>0.0</td>\n",
       "      <td>0.0</td>\n",
       "      <td>0.0</td>\n",
       "      <td>0.0</td>\n",
       "      <td>0.0</td>\n",
       "      <td>0.0</td>\n",
       "      <td>0.0</td>\n",
       "      <td>0.0</td>\n",
       "      <td>0.0</td>\n",
       "      <td>0.0</td>\n",
       "      <td>...</td>\n",
       "      <td>0.0</td>\n",
       "      <td>0.0</td>\n",
       "      <td>0.0</td>\n",
       "      <td>0.0</td>\n",
       "      <td>0.0</td>\n",
       "      <td>0.0</td>\n",
       "      <td>0.0</td>\n",
       "      <td>0.0</td>\n",
       "      <td>0.0</td>\n",
       "      <td>0.0</td>\n",
       "    </tr>\n",
       "  </tbody>\n",
       "</table>\n",
       "<p>5 rows × 610 columns</p>\n",
       "</div>"
      ],
      "text/plain": [
       "userId                                   1    2    3    4    5    6    7    \\\n",
       "title                                                                        \n",
       "'71 (2014)                               0.0  0.0  0.0  0.0  0.0  0.0  0.0   \n",
       "'Hellboy': The Seeds of Creation (2004)  0.0  0.0  0.0  0.0  0.0  0.0  0.0   \n",
       "'Round Midnight (1986)                   0.0  0.0  0.0  0.0  0.0  0.0  0.0   \n",
       "'Salem's Lot (2004)                      0.0  0.0  0.0  0.0  0.0  0.0  0.0   \n",
       "'Til There Was You (1997)                0.0  0.0  0.0  0.0  0.0  0.0  0.0   \n",
       "\n",
       "userId                                   8    9    10   ...  601  602  603  \\\n",
       "title                                                   ...                  \n",
       "'71 (2014)                               0.0  0.0  0.0  ...  0.0  0.0  0.0   \n",
       "'Hellboy': The Seeds of Creation (2004)  0.0  0.0  0.0  ...  0.0  0.0  0.0   \n",
       "'Round Midnight (1986)                   0.0  0.0  0.0  ...  0.0  0.0  0.0   \n",
       "'Salem's Lot (2004)                      0.0  0.0  0.0  ...  0.0  0.0  0.0   \n",
       "'Til There Was You (1997)                0.0  0.0  0.0  ...  0.0  0.0  0.0   \n",
       "\n",
       "userId                                   604  605  606  607  608  609  610  \n",
       "title                                                                       \n",
       "'71 (2014)                               0.0  0.0  0.0  0.0  0.0  0.0  4.0  \n",
       "'Hellboy': The Seeds of Creation (2004)  0.0  0.0  0.0  0.0  0.0  0.0  0.0  \n",
       "'Round Midnight (1986)                   0.0  0.0  0.0  0.0  0.0  0.0  0.0  \n",
       "'Salem's Lot (2004)                      0.0  0.0  0.0  0.0  0.0  0.0  0.0  \n",
       "'Til There Was You (1997)                0.0  0.0  0.0  0.0  0.0  0.0  0.0  \n",
       "\n",
       "[5 rows x 610 columns]"
      ]
     },
     "execution_count": 11,
     "metadata": {},
     "output_type": "execute_result"
    }
   ],
   "source": [
    "item_df.fillna(0).head()"
   ]
  },
  {
   "cell_type": "code",
   "execution_count": 12,
   "metadata": {},
   "outputs": [
    {
     "data": {
      "text/plain": [
       "(9719, 610)"
      ]
     },
     "execution_count": 12,
     "metadata": {},
     "output_type": "execute_result"
    }
   ],
   "source": [
    "item_df.shape"
   ]
  },
  {
   "cell_type": "code",
   "execution_count": 13,
   "metadata": {},
   "outputs": [],
   "source": [
    "sparse_items = scipy.sparse.csr_matrix(item_df.fillna(0))\n",
    "sparse_users = scipy.sparse.csr_matrix(user_df.fillna(0))"
   ]
  },
  {
   "cell_type": "code",
   "execution_count": 14,
   "metadata": {},
   "outputs": [
    {
     "name": "stdout",
     "output_type": "stream",
     "text": [
      "  (0, 609)\t4.0\n",
      "  (1, 331)\t4.0\n",
      "  (2, 331)\t3.5\n",
      "  (2, 376)\t3.5\n",
      "  (3, 344)\t5.0\n",
      "  (4, 112)\t3.0\n",
      "  (4, 344)\t5.0\n",
      "  (5, 20)\t1.5\n",
      "  (6, 11)\t5.0\n",
      "  (6, 18)\t2.0\n",
      "  (6, 90)\t2.0\n",
      "  (6, 94)\t3.0\n",
      "  (6, 171)\t4.0\n",
      "  (6, 216)\t4.0\n",
      "  (6, 287)\t3.0\n",
      "  (6, 293)\t1.0\n",
      "  (6, 306)\t3.5\n",
      "  (6, 376)\t3.5\n",
      "  (6, 413)\t3.0\n",
      "  (6, 473)\t1.0\n",
      "  (6, 476)\t3.5\n",
      "  (6, 519)\t4.0\n",
      "  (6, 554)\t5.0\n",
      "  (6, 560)\t4.5\n",
      "  (6, 598)\t2.0\n",
      "  :\t:\n",
      "  (9717, 26)\t5.0\n",
      "  (9717, 41)\t5.0\n",
      "  (9717, 56)\t2.0\n",
      "  (9717, 67)\t4.0\n",
      "  (9717, 87)\t3.5\n",
      "  (9717, 140)\t3.5\n",
      "  (9717, 197)\t2.0\n",
      "  (9717, 214)\t2.5\n",
      "  (9717, 216)\t2.0\n",
      "  (9717, 220)\t3.5\n",
      "  (9717, 238)\t3.0\n",
      "  (9717, 281)\t4.0\n",
      "  (9717, 293)\t4.0\n",
      "  (9717, 306)\t2.5\n",
      "  (9717, 312)\t1.0\n",
      "  (9717, 413)\t3.0\n",
      "  (9717, 420)\t3.0\n",
      "  (9717, 447)\t3.0\n",
      "  (9717, 473)\t3.0\n",
      "  (9717, 476)\t3.5\n",
      "  (9717, 554)\t3.0\n",
      "  (9717, 560)\t4.0\n",
      "  (9717, 596)\t3.0\n",
      "  (9717, 598)\t2.5\n",
      "  (9718, 526)\t1.0\n"
     ]
    }
   ],
   "source": [
    "print(sparse_items)"
   ]
  },
  {
   "cell_type": "code",
   "execution_count": 29,
   "metadata": {},
   "outputs": [],
   "source": [
    "recommender = pairwise_distances(sparse_items, metric = 'cosine')\n",
    "u_recommender = pairwise_distances(sparse_users)"
   ]
  },
  {
   "cell_type": "code",
   "execution_count": 30,
   "metadata": {},
   "outputs": [
    {
     "data": {
      "text/plain": [
       "array([[0.        , 1.        , 1.        , ..., 0.67267316, 1.        ,\n",
       "        1.        ],\n",
       "       [1.        , 0.        , 0.29289322, ..., 1.        , 1.        ,\n",
       "        1.        ],\n",
       "       [1.        , 0.29289322, 0.        , ..., 1.        , 1.        ,\n",
       "        1.        ],\n",
       "       ...,\n",
       "       [0.67267316, 1.        , 1.        , ..., 0.        , 1.        ,\n",
       "        1.        ],\n",
       "       [1.        , 1.        , 1.        , ..., 1.        , 0.        ,\n",
       "        1.        ],\n",
       "       [1.        , 1.        , 1.        , ..., 1.        , 1.        ,\n",
       "        0.        ]])"
      ]
     },
     "execution_count": 30,
     "metadata": {},
     "output_type": "execute_result"
    }
   ],
   "source": [
    "recommender"
   ]
  },
  {
   "cell_type": "code",
   "execution_count": 31,
   "metadata": {},
   "outputs": [],
   "source": [
    "rdf = pd.DataFrame(recommender, columns = item_df.index, index = item_df.index)\n",
    "udf = pd.DataFrame(u_recommender, columns = user_df.index, index = user_df.index)"
   ]
  },
  {
   "cell_type": "code",
   "execution_count": 32,
   "metadata": {},
   "outputs": [],
   "source": [
    "#udf.head()"
   ]
  },
  {
   "cell_type": "code",
   "execution_count": 33,
   "metadata": {},
   "outputs": [
    {
     "data": {
      "text/html": [
       "<div>\n",
       "<style scoped>\n",
       "    .dataframe tbody tr th:only-of-type {\n",
       "        vertical-align: middle;\n",
       "    }\n",
       "\n",
       "    .dataframe tbody tr th {\n",
       "        vertical-align: top;\n",
       "    }\n",
       "\n",
       "    .dataframe thead th {\n",
       "        text-align: right;\n",
       "    }\n",
       "</style>\n",
       "<table border=\"1\" class=\"dataframe\">\n",
       "  <thead>\n",
       "    <tr style=\"text-align: right;\">\n",
       "      <th>title</th>\n",
       "      <th>'71 (2014)</th>\n",
       "      <th>'Hellboy': The Seeds of Creation (2004)</th>\n",
       "      <th>'Round Midnight (1986)</th>\n",
       "      <th>'Salem's Lot (2004)</th>\n",
       "      <th>'Til There Was You (1997)</th>\n",
       "      <th>'Tis the Season for Love (2015)</th>\n",
       "      <th>'burbs, The (1989)</th>\n",
       "      <th>'night Mother (1986)</th>\n",
       "      <th>(500) Days of Summer (2009)</th>\n",
       "      <th>*batteries not included (1987)</th>\n",
       "      <th>...</th>\n",
       "      <th>Zulu (2013)</th>\n",
       "      <th>[REC] (2007)</th>\n",
       "      <th>[REC]² (2009)</th>\n",
       "      <th>[REC]³ 3 Génesis (2012)</th>\n",
       "      <th>anohana: The Flower We Saw That Day - The Movie (2013)</th>\n",
       "      <th>eXistenZ (1999)</th>\n",
       "      <th>xXx (2002)</th>\n",
       "      <th>xXx: State of the Union (2005)</th>\n",
       "      <th>¡Three Amigos! (1986)</th>\n",
       "      <th>À nous la liberté (Freedom for Us) (1931)</th>\n",
       "    </tr>\n",
       "    <tr>\n",
       "      <th>title</th>\n",
       "      <th></th>\n",
       "      <th></th>\n",
       "      <th></th>\n",
       "      <th></th>\n",
       "      <th></th>\n",
       "      <th></th>\n",
       "      <th></th>\n",
       "      <th></th>\n",
       "      <th></th>\n",
       "      <th></th>\n",
       "      <th></th>\n",
       "      <th></th>\n",
       "      <th></th>\n",
       "      <th></th>\n",
       "      <th></th>\n",
       "      <th></th>\n",
       "      <th></th>\n",
       "      <th></th>\n",
       "      <th></th>\n",
       "      <th></th>\n",
       "      <th></th>\n",
       "    </tr>\n",
       "  </thead>\n",
       "  <tbody>\n",
       "    <tr>\n",
       "      <td>'71 (2014)</td>\n",
       "      <td>0.0</td>\n",
       "      <td>1.000000</td>\n",
       "      <td>1.000000</td>\n",
       "      <td>1.000000</td>\n",
       "      <td>1.000000</td>\n",
       "      <td>1.0</td>\n",
       "      <td>1.000000</td>\n",
       "      <td>1.0</td>\n",
       "      <td>0.858347</td>\n",
       "      <td>1.0</td>\n",
       "      <td>...</td>\n",
       "      <td>1.0</td>\n",
       "      <td>0.657945</td>\n",
       "      <td>0.456695</td>\n",
       "      <td>0.292893</td>\n",
       "      <td>1.0</td>\n",
       "      <td>1.0</td>\n",
       "      <td>0.860569</td>\n",
       "      <td>0.672673</td>\n",
       "      <td>1.0</td>\n",
       "      <td>1.0</td>\n",
       "    </tr>\n",
       "    <tr>\n",
       "      <td>'Hellboy': The Seeds of Creation (2004)</td>\n",
       "      <td>1.0</td>\n",
       "      <td>0.000000</td>\n",
       "      <td>0.292893</td>\n",
       "      <td>1.000000</td>\n",
       "      <td>1.000000</td>\n",
       "      <td>1.0</td>\n",
       "      <td>1.000000</td>\n",
       "      <td>1.0</td>\n",
       "      <td>1.000000</td>\n",
       "      <td>1.0</td>\n",
       "      <td>...</td>\n",
       "      <td>1.0</td>\n",
       "      <td>1.000000</td>\n",
       "      <td>1.000000</td>\n",
       "      <td>1.000000</td>\n",
       "      <td>1.0</td>\n",
       "      <td>1.0</td>\n",
       "      <td>1.000000</td>\n",
       "      <td>1.000000</td>\n",
       "      <td>1.0</td>\n",
       "      <td>1.0</td>\n",
       "    </tr>\n",
       "    <tr>\n",
       "      <td>'Round Midnight (1986)</td>\n",
       "      <td>1.0</td>\n",
       "      <td>0.292893</td>\n",
       "      <td>0.000000</td>\n",
       "      <td>1.000000</td>\n",
       "      <td>1.000000</td>\n",
       "      <td>1.0</td>\n",
       "      <td>0.823223</td>\n",
       "      <td>1.0</td>\n",
       "      <td>1.000000</td>\n",
       "      <td>1.0</td>\n",
       "      <td>...</td>\n",
       "      <td>1.0</td>\n",
       "      <td>1.000000</td>\n",
       "      <td>1.000000</td>\n",
       "      <td>1.000000</td>\n",
       "      <td>1.0</td>\n",
       "      <td>1.0</td>\n",
       "      <td>1.000000</td>\n",
       "      <td>1.000000</td>\n",
       "      <td>1.0</td>\n",
       "      <td>1.0</td>\n",
       "    </tr>\n",
       "    <tr>\n",
       "      <td>'Salem's Lot (2004)</td>\n",
       "      <td>1.0</td>\n",
       "      <td>1.000000</td>\n",
       "      <td>1.000000</td>\n",
       "      <td>0.000000</td>\n",
       "      <td>0.142507</td>\n",
       "      <td>1.0</td>\n",
       "      <td>1.000000</td>\n",
       "      <td>1.0</td>\n",
       "      <td>1.000000</td>\n",
       "      <td>1.0</td>\n",
       "      <td>...</td>\n",
       "      <td>1.0</td>\n",
       "      <td>1.000000</td>\n",
       "      <td>1.000000</td>\n",
       "      <td>1.000000</td>\n",
       "      <td>1.0</td>\n",
       "      <td>1.0</td>\n",
       "      <td>1.000000</td>\n",
       "      <td>1.000000</td>\n",
       "      <td>1.0</td>\n",
       "      <td>1.0</td>\n",
       "    </tr>\n",
       "    <tr>\n",
       "      <td>'Til There Was You (1997)</td>\n",
       "      <td>1.0</td>\n",
       "      <td>1.000000</td>\n",
       "      <td>1.000000</td>\n",
       "      <td>0.142507</td>\n",
       "      <td>0.000000</td>\n",
       "      <td>1.0</td>\n",
       "      <td>1.000000</td>\n",
       "      <td>1.0</td>\n",
       "      <td>1.000000</td>\n",
       "      <td>1.0</td>\n",
       "      <td>...</td>\n",
       "      <td>1.0</td>\n",
       "      <td>1.000000</td>\n",
       "      <td>1.000000</td>\n",
       "      <td>1.000000</td>\n",
       "      <td>1.0</td>\n",
       "      <td>1.0</td>\n",
       "      <td>1.000000</td>\n",
       "      <td>1.000000</td>\n",
       "      <td>1.0</td>\n",
       "      <td>1.0</td>\n",
       "    </tr>\n",
       "  </tbody>\n",
       "</table>\n",
       "<p>5 rows × 9719 columns</p>\n",
       "</div>"
      ],
      "text/plain": [
       "title                                    '71 (2014)  \\\n",
       "title                                                 \n",
       "'71 (2014)                                      0.0   \n",
       "'Hellboy': The Seeds of Creation (2004)         1.0   \n",
       "'Round Midnight (1986)                          1.0   \n",
       "'Salem's Lot (2004)                             1.0   \n",
       "'Til There Was You (1997)                       1.0   \n",
       "\n",
       "title                                    'Hellboy': The Seeds of Creation (2004)  \\\n",
       "title                                                                              \n",
       "'71 (2014)                                                              1.000000   \n",
       "'Hellboy': The Seeds of Creation (2004)                                 0.000000   \n",
       "'Round Midnight (1986)                                                  0.292893   \n",
       "'Salem's Lot (2004)                                                     1.000000   \n",
       "'Til There Was You (1997)                                               1.000000   \n",
       "\n",
       "title                                    'Round Midnight (1986)  \\\n",
       "title                                                             \n",
       "'71 (2014)                                             1.000000   \n",
       "'Hellboy': The Seeds of Creation (2004)                0.292893   \n",
       "'Round Midnight (1986)                                 0.000000   \n",
       "'Salem's Lot (2004)                                    1.000000   \n",
       "'Til There Was You (1997)                              1.000000   \n",
       "\n",
       "title                                    'Salem's Lot (2004)  \\\n",
       "title                                                          \n",
       "'71 (2014)                                          1.000000   \n",
       "'Hellboy': The Seeds of Creation (2004)             1.000000   \n",
       "'Round Midnight (1986)                              1.000000   \n",
       "'Salem's Lot (2004)                                 0.000000   \n",
       "'Til There Was You (1997)                           0.142507   \n",
       "\n",
       "title                                    'Til There Was You (1997)  \\\n",
       "title                                                                \n",
       "'71 (2014)                                                1.000000   \n",
       "'Hellboy': The Seeds of Creation (2004)                   1.000000   \n",
       "'Round Midnight (1986)                                    1.000000   \n",
       "'Salem's Lot (2004)                                       0.142507   \n",
       "'Til There Was You (1997)                                 0.000000   \n",
       "\n",
       "title                                    'Tis the Season for Love (2015)  \\\n",
       "title                                                                      \n",
       "'71 (2014)                                                           1.0   \n",
       "'Hellboy': The Seeds of Creation (2004)                              1.0   \n",
       "'Round Midnight (1986)                                               1.0   \n",
       "'Salem's Lot (2004)                                                  1.0   \n",
       "'Til There Was You (1997)                                            1.0   \n",
       "\n",
       "title                                    'burbs, The (1989)  \\\n",
       "title                                                         \n",
       "'71 (2014)                                         1.000000   \n",
       "'Hellboy': The Seeds of Creation (2004)            1.000000   \n",
       "'Round Midnight (1986)                             0.823223   \n",
       "'Salem's Lot (2004)                                1.000000   \n",
       "'Til There Was You (1997)                          1.000000   \n",
       "\n",
       "title                                    'night Mother (1986)  \\\n",
       "title                                                           \n",
       "'71 (2014)                                                1.0   \n",
       "'Hellboy': The Seeds of Creation (2004)                   1.0   \n",
       "'Round Midnight (1986)                                    1.0   \n",
       "'Salem's Lot (2004)                                       1.0   \n",
       "'Til There Was You (1997)                                 1.0   \n",
       "\n",
       "title                                    (500) Days of Summer (2009)  \\\n",
       "title                                                                  \n",
       "'71 (2014)                                                  0.858347   \n",
       "'Hellboy': The Seeds of Creation (2004)                     1.000000   \n",
       "'Round Midnight (1986)                                      1.000000   \n",
       "'Salem's Lot (2004)                                         1.000000   \n",
       "'Til There Was You (1997)                                   1.000000   \n",
       "\n",
       "title                                    *batteries not included (1987)  ...  \\\n",
       "title                                                                    ...   \n",
       "'71 (2014)                                                          1.0  ...   \n",
       "'Hellboy': The Seeds of Creation (2004)                             1.0  ...   \n",
       "'Round Midnight (1986)                                              1.0  ...   \n",
       "'Salem's Lot (2004)                                                 1.0  ...   \n",
       "'Til There Was You (1997)                                           1.0  ...   \n",
       "\n",
       "title                                    Zulu (2013)  [REC] (2007)  \\\n",
       "title                                                                \n",
       "'71 (2014)                                       1.0      0.657945   \n",
       "'Hellboy': The Seeds of Creation (2004)          1.0      1.000000   \n",
       "'Round Midnight (1986)                           1.0      1.000000   \n",
       "'Salem's Lot (2004)                              1.0      1.000000   \n",
       "'Til There Was You (1997)                        1.0      1.000000   \n",
       "\n",
       "title                                    [REC]² (2009)  \\\n",
       "title                                                    \n",
       "'71 (2014)                                    0.456695   \n",
       "'Hellboy': The Seeds of Creation (2004)       1.000000   \n",
       "'Round Midnight (1986)                        1.000000   \n",
       "'Salem's Lot (2004)                           1.000000   \n",
       "'Til There Was You (1997)                     1.000000   \n",
       "\n",
       "title                                    [REC]³ 3 Génesis (2012)  \\\n",
       "title                                                              \n",
       "'71 (2014)                                              0.292893   \n",
       "'Hellboy': The Seeds of Creation (2004)                 1.000000   \n",
       "'Round Midnight (1986)                                  1.000000   \n",
       "'Salem's Lot (2004)                                     1.000000   \n",
       "'Til There Was You (1997)                               1.000000   \n",
       "\n",
       "title                                    anohana: The Flower We Saw That Day - The Movie (2013)  \\\n",
       "title                                                                                             \n",
       "'71 (2014)                                                                             1.0        \n",
       "'Hellboy': The Seeds of Creation (2004)                                                1.0        \n",
       "'Round Midnight (1986)                                                                 1.0        \n",
       "'Salem's Lot (2004)                                                                    1.0        \n",
       "'Til There Was You (1997)                                                              1.0        \n",
       "\n",
       "title                                    eXistenZ (1999)  xXx (2002)  \\\n",
       "title                                                                  \n",
       "'71 (2014)                                           1.0    0.860569   \n",
       "'Hellboy': The Seeds of Creation (2004)              1.0    1.000000   \n",
       "'Round Midnight (1986)                               1.0    1.000000   \n",
       "'Salem's Lot (2004)                                  1.0    1.000000   \n",
       "'Til There Was You (1997)                            1.0    1.000000   \n",
       "\n",
       "title                                    xXx: State of the Union (2005)  \\\n",
       "title                                                                     \n",
       "'71 (2014)                                                     0.672673   \n",
       "'Hellboy': The Seeds of Creation (2004)                        1.000000   \n",
       "'Round Midnight (1986)                                         1.000000   \n",
       "'Salem's Lot (2004)                                            1.000000   \n",
       "'Til There Was You (1997)                                      1.000000   \n",
       "\n",
       "title                                    ¡Three Amigos! (1986)  \\\n",
       "title                                                            \n",
       "'71 (2014)                                                 1.0   \n",
       "'Hellboy': The Seeds of Creation (2004)                    1.0   \n",
       "'Round Midnight (1986)                                     1.0   \n",
       "'Salem's Lot (2004)                                        1.0   \n",
       "'Til There Was You (1997)                                  1.0   \n",
       "\n",
       "title                                    À nous la liberté (Freedom for Us) (1931)  \n",
       "title                                                                               \n",
       "'71 (2014)                                                                     1.0  \n",
       "'Hellboy': The Seeds of Creation (2004)                                        1.0  \n",
       "'Round Midnight (1986)                                                         1.0  \n",
       "'Salem's Lot (2004)                                                            1.0  \n",
       "'Til There Was You (1997)                                                      1.0  \n",
       "\n",
       "[5 rows x 9719 columns]"
      ]
     },
     "execution_count": 33,
     "metadata": {},
     "output_type": "execute_result"
    }
   ],
   "source": [
    "rdf.head()"
   ]
  },
  {
   "cell_type": "code",
   "execution_count": 34,
   "metadata": {},
   "outputs": [],
   "source": [
    "search = 'Die Hard'"
   ]
  },
  {
   "cell_type": "code",
   "execution_count": 35,
   "metadata": {},
   "outputs": [
    {
     "data": {
      "text/plain": [
       "138     Die Hard: With a Vengeance (1995)\n",
       "793                       Die Hard (1988)\n",
       "1053                    Die Hard 2 (1990)\n",
       "6518         Live Free or Die Hard (2007)\n",
       "8103       Good Day to Die Hard, A (2013)\n",
       "Name: title, dtype: object"
      ]
     },
     "execution_count": 35,
     "metadata": {},
     "output_type": "execute_result"
    }
   ],
   "source": [
    "movies.loc[movies['title'].str.contains(search), 'title']"
   ]
  },
  {
   "cell_type": "code",
   "execution_count": 36,
   "metadata": {},
   "outputs": [
    {
     "data": {
      "text/html": [
       "<div>\n",
       "<style scoped>\n",
       "    .dataframe tbody tr th:only-of-type {\n",
       "        vertical-align: middle;\n",
       "    }\n",
       "\n",
       "    .dataframe tbody tr th {\n",
       "        vertical-align: top;\n",
       "    }\n",
       "\n",
       "    .dataframe thead th {\n",
       "        text-align: right;\n",
       "    }\n",
       "</style>\n",
       "<table border=\"1\" class=\"dataframe\">\n",
       "  <thead>\n",
       "    <tr style=\"text-align: right;\">\n",
       "      <th>userId</th>\n",
       "      <th>1</th>\n",
       "      <th>2</th>\n",
       "      <th>3</th>\n",
       "      <th>4</th>\n",
       "      <th>5</th>\n",
       "      <th>6</th>\n",
       "      <th>7</th>\n",
       "      <th>8</th>\n",
       "      <th>9</th>\n",
       "      <th>10</th>\n",
       "      <th>...</th>\n",
       "      <th>601</th>\n",
       "      <th>602</th>\n",
       "      <th>603</th>\n",
       "      <th>604</th>\n",
       "      <th>605</th>\n",
       "      <th>606</th>\n",
       "      <th>607</th>\n",
       "      <th>608</th>\n",
       "      <th>609</th>\n",
       "      <th>610</th>\n",
       "    </tr>\n",
       "    <tr>\n",
       "      <th>title</th>\n",
       "      <th></th>\n",
       "      <th></th>\n",
       "      <th></th>\n",
       "      <th></th>\n",
       "      <th></th>\n",
       "      <th></th>\n",
       "      <th></th>\n",
       "      <th></th>\n",
       "      <th></th>\n",
       "      <th></th>\n",
       "      <th></th>\n",
       "      <th></th>\n",
       "      <th></th>\n",
       "      <th></th>\n",
       "      <th></th>\n",
       "      <th></th>\n",
       "      <th></th>\n",
       "      <th></th>\n",
       "      <th></th>\n",
       "      <th></th>\n",
       "      <th></th>\n",
       "    </tr>\n",
       "  </thead>\n",
       "  <tbody>\n",
       "    <tr>\n",
       "      <td>'71 (2014)</td>\n",
       "      <td>NaN</td>\n",
       "      <td>NaN</td>\n",
       "      <td>NaN</td>\n",
       "      <td>NaN</td>\n",
       "      <td>NaN</td>\n",
       "      <td>NaN</td>\n",
       "      <td>NaN</td>\n",
       "      <td>NaN</td>\n",
       "      <td>NaN</td>\n",
       "      <td>NaN</td>\n",
       "      <td>...</td>\n",
       "      <td>NaN</td>\n",
       "      <td>NaN</td>\n",
       "      <td>NaN</td>\n",
       "      <td>NaN</td>\n",
       "      <td>NaN</td>\n",
       "      <td>NaN</td>\n",
       "      <td>NaN</td>\n",
       "      <td>NaN</td>\n",
       "      <td>NaN</td>\n",
       "      <td>4.0</td>\n",
       "    </tr>\n",
       "    <tr>\n",
       "      <td>'Hellboy': The Seeds of Creation (2004)</td>\n",
       "      <td>NaN</td>\n",
       "      <td>NaN</td>\n",
       "      <td>NaN</td>\n",
       "      <td>NaN</td>\n",
       "      <td>NaN</td>\n",
       "      <td>NaN</td>\n",
       "      <td>NaN</td>\n",
       "      <td>NaN</td>\n",
       "      <td>NaN</td>\n",
       "      <td>NaN</td>\n",
       "      <td>...</td>\n",
       "      <td>NaN</td>\n",
       "      <td>NaN</td>\n",
       "      <td>NaN</td>\n",
       "      <td>NaN</td>\n",
       "      <td>NaN</td>\n",
       "      <td>NaN</td>\n",
       "      <td>NaN</td>\n",
       "      <td>NaN</td>\n",
       "      <td>NaN</td>\n",
       "      <td>NaN</td>\n",
       "    </tr>\n",
       "  </tbody>\n",
       "</table>\n",
       "<p>2 rows × 610 columns</p>\n",
       "</div>"
      ],
      "text/plain": [
       "userId                                   1    2    3    4    5    6    7    \\\n",
       "title                                                                        \n",
       "'71 (2014)                               NaN  NaN  NaN  NaN  NaN  NaN  NaN   \n",
       "'Hellboy': The Seeds of Creation (2004)  NaN  NaN  NaN  NaN  NaN  NaN  NaN   \n",
       "\n",
       "userId                                   8    9    10   ...  601  602  603  \\\n",
       "title                                                   ...                  \n",
       "'71 (2014)                               NaN  NaN  NaN  ...  NaN  NaN  NaN   \n",
       "'Hellboy': The Seeds of Creation (2004)  NaN  NaN  NaN  ...  NaN  NaN  NaN   \n",
       "\n",
       "userId                                   604  605  606  607  608  609  610  \n",
       "title                                                                       \n",
       "'71 (2014)                               NaN  NaN  NaN  NaN  NaN  NaN  4.0  \n",
       "'Hellboy': The Seeds of Creation (2004)  NaN  NaN  NaN  NaN  NaN  NaN  NaN  \n",
       "\n",
       "[2 rows x 610 columns]"
      ]
     },
     "execution_count": 36,
     "metadata": {},
     "output_type": "execute_result"
    }
   ],
   "source": [
    "item_df.head(2)"
   ]
  },
  {
   "cell_type": "code",
   "execution_count": 37,
   "metadata": {},
   "outputs": [
    {
     "data": {
      "text/plain": [
       "3.40625"
      ]
     },
     "execution_count": 37,
     "metadata": {},
     "output_type": "execute_result"
    }
   ],
   "source": [
    "item_df.loc['Live Free or Die Hard (2007)', :].mean()"
   ]
  },
  {
   "cell_type": "code",
   "execution_count": 38,
   "metadata": {},
   "outputs": [
    {
     "data": {
      "text/plain": [
       "32"
      ]
     },
     "execution_count": 38,
     "metadata": {},
     "output_type": "execute_result"
    }
   ],
   "source": [
    "item_df.T['Live Free or Die Hard (2007)'].count()"
   ]
  },
  {
   "cell_type": "code",
   "execution_count": 39,
   "metadata": {},
   "outputs": [],
   "source": [
    "def recommender(title, n):\n",
    "    return pd.DataFrame(rdf[title].sort_values()[1:n])"
   ]
  },
  {
   "cell_type": "code",
   "execution_count": 40,
   "metadata": {},
   "outputs": [
    {
     "data": {
      "text/html": [
       "<div>\n",
       "<style scoped>\n",
       "    .dataframe tbody tr th:only-of-type {\n",
       "        vertical-align: middle;\n",
       "    }\n",
       "\n",
       "    .dataframe tbody tr th {\n",
       "        vertical-align: top;\n",
       "    }\n",
       "\n",
       "    .dataframe thead th {\n",
       "        text-align: right;\n",
       "    }\n",
       "</style>\n",
       "<table border=\"1\" class=\"dataframe\">\n",
       "  <thead>\n",
       "    <tr style=\"text-align: right;\">\n",
       "      <th></th>\n",
       "      <th>Live Free or Die Hard (2007)</th>\n",
       "    </tr>\n",
       "    <tr>\n",
       "      <th>title</th>\n",
       "      <th></th>\n",
       "    </tr>\n",
       "  </thead>\n",
       "  <tbody>\n",
       "    <tr>\n",
       "      <td>Transformers (2007)</td>\n",
       "      <td>0.464709</td>\n",
       "    </tr>\n",
       "    <tr>\n",
       "      <td>King Kong (2005)</td>\n",
       "      <td>0.472095</td>\n",
       "    </tr>\n",
       "    <tr>\n",
       "      <td>Phone Booth (2002)</td>\n",
       "      <td>0.489301</td>\n",
       "    </tr>\n",
       "    <tr>\n",
       "      <td>Indiana Jones and the Kingdom of the Crystal Skull (2008)</td>\n",
       "      <td>0.492294</td>\n",
       "    </tr>\n",
       "  </tbody>\n",
       "</table>\n",
       "</div>"
      ],
      "text/plain": [
       "                                                    Live Free or Die Hard (2007)\n",
       "title                                                                           \n",
       "Transformers (2007)                                                     0.464709\n",
       "King Kong (2005)                                                        0.472095\n",
       "Phone Booth (2002)                                                      0.489301\n",
       "Indiana Jones and the Kingdom of the Crystal Sk...                      0.492294"
      ]
     },
     "execution_count": 40,
     "metadata": {},
     "output_type": "execute_result"
    }
   ],
   "source": [
    "recommender('Live Free or Die Hard (2007)', 5)"
   ]
  },
  {
   "cell_type": "code",
   "execution_count": 41,
   "metadata": {},
   "outputs": [],
   "source": [
    "import numpy as np"
   ]
  },
  {
   "cell_type": "code",
   "execution_count": 48,
   "metadata": {},
   "outputs": [
    {
     "data": {
      "text/html": [
       "<div>\n",
       "<style scoped>\n",
       "    .dataframe tbody tr th:only-of-type {\n",
       "        vertical-align: middle;\n",
       "    }\n",
       "\n",
       "    .dataframe tbody tr th {\n",
       "        vertical-align: top;\n",
       "    }\n",
       "\n",
       "    .dataframe thead th {\n",
       "        text-align: right;\n",
       "    }\n",
       "</style>\n",
       "<table border=\"1\" class=\"dataframe\">\n",
       "  <thead>\n",
       "    <tr style=\"text-align: right;\">\n",
       "      <th></th>\n",
       "      <th>Bill &amp; Ted's Excellent Adventure (1989)</th>\n",
       "    </tr>\n",
       "    <tr>\n",
       "      <th>title</th>\n",
       "      <th></th>\n",
       "    </tr>\n",
       "  </thead>\n",
       "  <tbody>\n",
       "    <tr>\n",
       "      <td>Bill &amp; Ted's Bogus Journey (1991)</td>\n",
       "      <td>0.391369</td>\n",
       "    </tr>\n",
       "    <tr>\n",
       "      <td>Wayne's World (1992)</td>\n",
       "      <td>0.505636</td>\n",
       "    </tr>\n",
       "    <tr>\n",
       "      <td>Goonies, The (1985)</td>\n",
       "      <td>0.513995</td>\n",
       "    </tr>\n",
       "    <tr>\n",
       "      <td>Unbreakable (2000)</td>\n",
       "      <td>0.534780</td>\n",
       "    </tr>\n",
       "    <tr>\n",
       "      <td>Willow (1988)</td>\n",
       "      <td>0.534802</td>\n",
       "    </tr>\n",
       "    <tr>\n",
       "      <td>Ferris Bueller's Day Off (1986)</td>\n",
       "      <td>0.542534</td>\n",
       "    </tr>\n",
       "  </tbody>\n",
       "</table>\n",
       "</div>"
      ],
      "text/plain": [
       "                                   Bill & Ted's Excellent Adventure (1989)\n",
       "title                                                                     \n",
       "Bill & Ted's Bogus Journey (1991)                                 0.391369\n",
       "Wayne's World (1992)                                              0.505636\n",
       "Goonies, The (1985)                                               0.513995\n",
       "Unbreakable (2000)                                                0.534780\n",
       "Willow (1988)                                                     0.534802\n",
       "Ferris Bueller's Day Off (1986)                                   0.542534"
      ]
     },
     "execution_count": 48,
     "metadata": {},
     "output_type": "execute_result"
    }
   ],
   "source": [
    "recommender(rdf.columns[np.random.randint(0, rdf.shape[1])], 7)"
   ]
  },
  {
   "cell_type": "code",
   "execution_count": 51,
   "metadata": {},
   "outputs": [
    {
     "data": {
      "text/plain": [
       "title\n",
       "Die Hard: With a Vengeance (1995)    0.000000\n",
       "True Lies (1994)                     0.341742\n",
       "Speed (1994)                         0.365913\n",
       "Cliffhanger (1993)                   0.377932\n",
       "Ace Ventura: Pet Detective (1994)    0.381457\n",
       "GoldenEye (1995)                     0.384206\n",
       "Clear and Present Danger (1994)      0.399911\n",
       "Fugitive, The (1993)                 0.408297\n",
       "Batman (1989)                        0.413284\n",
       "Outbreak (1995)                      0.423053\n",
       "Name: Die Hard: With a Vengeance (1995), dtype: float64"
      ]
     },
     "execution_count": 51,
     "metadata": {},
     "output_type": "execute_result"
    }
   ],
   "source": [
    "rdf.loc[:, 'Die Hard: With a Vengeance (1995)'].nsmallest(10)"
   ]
  },
  {
   "cell_type": "code",
   "execution_count": null,
   "metadata": {},
   "outputs": [],
   "source": []
  },
  {
   "cell_type": "code",
   "execution_count": null,
   "metadata": {},
   "outputs": [],
   "source": []
  },
  {
   "cell_type": "code",
   "execution_count": null,
   "metadata": {},
   "outputs": [],
   "source": []
  },
  {
   "cell_type": "code",
   "execution_count": null,
   "metadata": {},
   "outputs": [],
   "source": []
  },
  {
   "cell_type": "code",
   "execution_count": 49,
   "metadata": {},
   "outputs": [],
   "source": [
    "def recommender_getter(title, n = 5):\n",
    "        avg = item_df.loc[title, :].mean()\n",
    "        num_ratings = item_df.T[title].count()\n",
    "        recs = rdf[title].nsmallest(n)[1:n]\n",
    "        print(f'{title} had {num_ratings} ratings \\nwith an average rating of {avg: .4f}')\n",
    "        return recs"
   ]
  },
  {
   "cell_type": "code",
   "execution_count": 50,
   "metadata": {},
   "outputs": [
    {
     "name": "stdout",
     "output_type": "stream",
     "text": [
      "Grumpier Old Men (1995) had 52 ratings \n",
      "with an average rating of  3.2596\n"
     ]
    },
    {
     "data": {
      "text/plain": [
       "title\n",
       "Grumpy Old Men (1993)                  0.552013\n",
       "Striptease (1996)                      0.553216\n",
       "Nutty Professor, The (1996)            0.554918\n",
       "Twister (1996)                         0.563753\n",
       "Father of the Bride Part II (1995)     0.582198\n",
       "Broken Arrow (1996)                    0.589867\n",
       "Bio-Dome (1996)                        0.592596\n",
       "Truth About Cats & Dogs, The (1996)    0.596917\n",
       "Sabrina (1995)                         0.597169\n",
       "Name: Grumpier Old Men (1995), dtype: float64"
      ]
     },
     "execution_count": 50,
     "metadata": {},
     "output_type": "execute_result"
    }
   ],
   "source": [
    "recommender_getter('Grumpier Old Men (1995)', 10)"
   ]
  },
  {
   "cell_type": "code",
   "execution_count": 52,
   "metadata": {},
   "outputs": [],
   "source": [
    "from surprise import SVD, KNNBasic"
   ]
  },
  {
   "cell_type": "code",
   "execution_count": 53,
   "metadata": {},
   "outputs": [],
   "source": [
    "from surprise import Dataset"
   ]
  },
  {
   "cell_type": "code",
   "execution_count": 55,
   "metadata": {},
   "outputs": [],
   "source": [
    "data = Dataset.load_builtin('ml-100k')"
   ]
  },
  {
   "cell_type": "code",
   "execution_count": 72,
   "metadata": {},
   "outputs": [
    {
     "data": {
      "text/plain": [
       "<surprise.dataset.DatasetAutoFolds at 0x7fb72a34ea90>"
      ]
     },
     "execution_count": 72,
     "metadata": {},
     "output_type": "execute_result"
    }
   ],
   "source": [
    "data"
   ]
  },
  {
   "cell_type": "code",
   "execution_count": 56,
   "metadata": {},
   "outputs": [],
   "source": [
    "algo = SVD()"
   ]
  },
  {
   "cell_type": "code",
   "execution_count": 57,
   "metadata": {},
   "outputs": [],
   "source": [
    "trainset = data.build_full_trainset()"
   ]
  },
  {
   "cell_type": "code",
   "execution_count": 58,
   "metadata": {},
   "outputs": [
    {
     "data": {
      "text/plain": [
       "<surprise.prediction_algorithms.matrix_factorization.SVD at 0x7fb72a34e4d0>"
      ]
     },
     "execution_count": 58,
     "metadata": {},
     "output_type": "execute_result"
    }
   ],
   "source": [
    "algo.fit(trainset)"
   ]
  },
  {
   "cell_type": "code",
   "execution_count": 63,
   "metadata": {},
   "outputs": [
    {
     "data": {
      "text/plain": [
       "Prediction(uid=111, iid=201, r_ui=4, est=3.52986, details={'was_impossible': False})"
      ]
     },
     "execution_count": 63,
     "metadata": {},
     "output_type": "execute_result"
    }
   ],
   "source": [
    "algo.predict(111, 201, r_ui = 4)"
   ]
  },
  {
   "cell_type": "code",
   "execution_count": 60,
   "metadata": {},
   "outputs": [],
   "source": [
    "knn = KNNBasic()"
   ]
  },
  {
   "cell_type": "code",
   "execution_count": 61,
   "metadata": {},
   "outputs": [
    {
     "name": "stdout",
     "output_type": "stream",
     "text": [
      "Computing the msd similarity matrix...\n",
      "Done computing similarity matrix.\n"
     ]
    },
    {
     "data": {
      "text/plain": [
       "<surprise.prediction_algorithms.knns.KNNBasic at 0x7fb749340810>"
      ]
     },
     "execution_count": 61,
     "metadata": {},
     "output_type": "execute_result"
    }
   ],
   "source": [
    "knn.fit(trainset)"
   ]
  },
  {
   "cell_type": "code",
   "execution_count": 71,
   "metadata": {},
   "outputs": [
    {
     "data": {
      "text/plain": [
       "Prediction(uid=0, iid=201, r_ui=None, est=3.52986, details={'was_impossible': True, 'reason': 'User and/or item is unkown.'})"
      ]
     },
     "execution_count": 71,
     "metadata": {},
     "output_type": "execute_result"
    }
   ],
   "source": [
    "knn.predict(0,201)"
   ]
  },
  {
   "cell_type": "code",
   "execution_count": 68,
   "metadata": {},
   "outputs": [
    {
     "data": {
      "text/plain": [
       "range(0, 943)"
      ]
     },
     "execution_count": 68,
     "metadata": {},
     "output_type": "execute_result"
    }
   ],
   "source": [
    "trainset.all_users()"
   ]
  },
  {
   "cell_type": "code",
   "execution_count": null,
   "metadata": {},
   "outputs": [],
   "source": []
  },
  {
   "cell_type": "code",
   "execution_count": null,
   "metadata": {},
   "outputs": [],
   "source": []
  },
  {
   "cell_type": "code",
   "execution_count": null,
   "metadata": {},
   "outputs": [],
   "source": []
  },
  {
   "cell_type": "code",
   "execution_count": null,
   "metadata": {},
   "outputs": [],
   "source": []
  },
  {
   "cell_type": "markdown",
   "metadata": {},
   "source": [
    "##### Topic Models"
   ]
  },
  {
   "cell_type": "code",
   "execution_count": 108,
   "metadata": {},
   "outputs": [],
   "source": [
    "from sklearn.decomposition import LatentDirichletAllocation, NMF"
   ]
  },
  {
   "cell_type": "code",
   "execution_count": 74,
   "metadata": {},
   "outputs": [],
   "source": [
    "import pandas as pd"
   ]
  },
  {
   "cell_type": "code",
   "execution_count": 75,
   "metadata": {},
   "outputs": [],
   "source": [
    "tweets = pd.read_csv('data/tweets.csv', index_col = 0)"
   ]
  },
  {
   "cell_type": "code",
   "execution_count": 77,
   "metadata": {},
   "outputs": [
    {
     "data": {
      "text/html": [
       "<div>\n",
       "<style scoped>\n",
       "    .dataframe tbody tr th:only-of-type {\n",
       "        vertical-align: middle;\n",
       "    }\n",
       "\n",
       "    .dataframe tbody tr th {\n",
       "        vertical-align: top;\n",
       "    }\n",
       "\n",
       "    .dataframe thead th {\n",
       "        text-align: right;\n",
       "    }\n",
       "</style>\n",
       "<table border=\"1\" class=\"dataframe\">\n",
       "  <thead>\n",
       "    <tr style=\"text-align: right;\">\n",
       "      <th></th>\n",
       "      <th>retweets</th>\n",
       "      <th>tweets</th>\n",
       "      <th>user</th>\n",
       "    </tr>\n",
       "  </thead>\n",
       "  <tbody>\n",
       "    <tr>\n",
       "      <td>0</td>\n",
       "      <td>15122</td>\n",
       "      <td>As of today, there are 14 weeks until the midt...</td>\n",
       "      <td>HillaryClinton</td>\n",
       "    </tr>\n",
       "    <tr>\n",
       "      <td>1</td>\n",
       "      <td>2152</td>\n",
       "      <td>Congrats to @IndivisibleTeam volunteers around...</td>\n",
       "      <td>HillaryClinton</td>\n",
       "    </tr>\n",
       "    <tr>\n",
       "      <td>2</td>\n",
       "      <td>401</td>\n",
       "      <td>RT @latinovictoryus: 🙌🏼 This is a humanitarian...</td>\n",
       "      <td>HillaryClinton</td>\n",
       "    </tr>\n",
       "    <tr>\n",
       "      <td>3</td>\n",
       "      <td>1538</td>\n",
       "      <td>Give them all a follow, a RT, or an email sign...</td>\n",
       "      <td>HillaryClinton</td>\n",
       "    </tr>\n",
       "    <tr>\n",
       "      <td>4</td>\n",
       "      <td>1619</td>\n",
       "      <td>After Justice Kennedy announced his retirement...</td>\n",
       "      <td>HillaryClinton</td>\n",
       "    </tr>\n",
       "  </tbody>\n",
       "</table>\n",
       "</div>"
      ],
      "text/plain": [
       "   retweets                                             tweets            user\n",
       "0     15122  As of today, there are 14 weeks until the midt...  HillaryClinton\n",
       "1      2152  Congrats to @IndivisibleTeam volunteers around...  HillaryClinton\n",
       "2       401  RT @latinovictoryus: 🙌🏼 This is a humanitarian...  HillaryClinton\n",
       "3      1538  Give them all a follow, a RT, or an email sign...  HillaryClinton\n",
       "4      1619  After Justice Kennedy announced his retirement...  HillaryClinton"
      ]
     },
     "execution_count": 77,
     "metadata": {},
     "output_type": "execute_result"
    }
   ],
   "source": [
    "tweets.head()"
   ]
  },
  {
   "cell_type": "code",
   "execution_count": 78,
   "metadata": {},
   "outputs": [
    {
     "data": {
      "text/plain": [
       "user\n",
       "HillaryClinton    3237\n",
       "_yiannopoulos     3231\n",
       "iamcardib         3087\n",
       "thrashermag       3209\n",
       "dtype: int64"
      ]
     },
     "execution_count": 78,
     "metadata": {},
     "output_type": "execute_result"
    }
   ],
   "source": [
    "tweets.groupby('user').size()"
   ]
  },
  {
   "cell_type": "code",
   "execution_count": 79,
   "metadata": {},
   "outputs": [],
   "source": [
    "from sklearn.feature_extraction.text import CountVectorizer"
   ]
  },
  {
   "cell_type": "code",
   "execution_count": 89,
   "metadata": {},
   "outputs": [],
   "source": [
    "cvect = CountVectorizer(stop_words = 'english', max_features = 4000, ngram_range = (1, 3))"
   ]
  },
  {
   "cell_type": "code",
   "execution_count": 90,
   "metadata": {},
   "outputs": [],
   "source": [
    "Xvect = cvect.fit_transform(tweets['tweets'])"
   ]
  },
  {
   "cell_type": "code",
   "execution_count": 91,
   "metadata": {},
   "outputs": [],
   "source": [
    "lda = LatentDirichletAllocation(n_components = 3)"
   ]
  },
  {
   "cell_type": "code",
   "execution_count": 92,
   "metadata": {},
   "outputs": [
    {
     "data": {
      "text/plain": [
       "LatentDirichletAllocation(n_components=3)"
      ]
     },
     "execution_count": 92,
     "metadata": {},
     "output_type": "execute_result"
    }
   ],
   "source": [
    "lda.fit(Xvect)"
   ]
  },
  {
   "cell_type": "code",
   "execution_count": 93,
   "metadata": {},
   "outputs": [],
   "source": [
    "def print_top_words(model, feature_names, n_top_words):\n",
    "    for topic_idx, topic in enumerate(model.components_):\n",
    "        message = \"Topic #%d: \" % topic_idx\n",
    "        message += \" \".join([feature_names[i]\n",
    "                             for i in topic.argsort()[:-n_top_words - 1:-1]])\n",
    "        print(message)\n",
    "    print()"
   ]
  },
  {
   "cell_type": "code",
   "execution_count": 94,
   "metadata": {},
   "outputs": [
    {
     "name": "stdout",
     "output_type": "stream",
     "text": [
      "Topic #0: https http today great video new thank day time amp episode big years year just\n",
      "Topic #1: rt cardi https iamcardib like donald donald trump trump um yea amp um yea bartier bartier cardi offset\n",
      "Topic #2: https hillary trump president people just make amp rt country vote america don news potus\n",
      "\n"
     ]
    }
   ],
   "source": [
    "print_top_words(lda, cvect.get_feature_names(), 15)"
   ]
  },
  {
   "cell_type": "code",
   "execution_count": 95,
   "metadata": {},
   "outputs": [],
   "source": [
    "import pyLDAvis\n",
    "import pyLDAvis.sklearn\n",
    "pyLDAvis.enable_notebook()"
   ]
  },
  {
   "cell_type": "code",
   "execution_count": 96,
   "metadata": {},
   "outputs": [
    {
     "name": "stderr",
     "output_type": "stream",
     "text": [
      "/Users/jacobkoehler/opt/anaconda3/lib/python3.7/site-packages/pyLDAvis/_prepare.py:257: FutureWarning: Sorting because non-concatenation axis is not aligned. A future version\n",
      "of pandas will change to not sort by default.\n",
      "\n",
      "To accept the future behavior, pass 'sort=False'.\n",
      "\n",
      "To retain the current behavior and silence the warning, pass 'sort=True'.\n",
      "\n",
      "  return pd.concat([default_term_info] + list(topic_dfs))\n"
     ]
    },
    {
     "data": {
      "text/html": [
       "\n",
       "<link rel=\"stylesheet\" type=\"text/css\" href=\"https://cdn.rawgit.com/bmabey/pyLDAvis/files/ldavis.v1.0.0.css\">\n",
       "\n",
       "\n",
       "<div id=\"ldavis_el61371404238431196967120430988\"></div>\n",
       "<script type=\"text/javascript\">\n",
       "\n",
       "var ldavis_el61371404238431196967120430988_data = {\"mdsDat\": {\"x\": [-0.15326159130672107, -0.10391404487871017, 0.25717563618543127], \"y\": [0.15543808780784898, -0.1766807005354515, 0.021242612727602424], \"topics\": [1, 2, 3], \"cluster\": [1, 1, 1], \"Freq\": [39.54549341093721, 35.4804055598673, 24.97410102919549]}, \"tinfo\": {\"Category\": [\"Default\", \"Default\", \"Default\", \"Default\", \"Default\", \"Default\", \"Default\", \"Default\", \"Default\", \"Default\", \"Default\", \"Default\", \"Default\", \"Default\", \"Default\", \"Default\", \"Default\", \"Default\", \"Default\", \"Default\", \"Default\", \"Default\", \"Default\", \"Default\", \"Default\", \"Default\", \"Default\", \"Default\", \"Default\", \"Default\", \"Topic1\", \"Topic1\", \"Topic1\", \"Topic1\", \"Topic1\", \"Topic1\", \"Topic1\", \"Topic1\", \"Topic1\", \"Topic1\", \"Topic1\", \"Topic1\", \"Topic1\", \"Topic1\", \"Topic1\", \"Topic1\", \"Topic1\", \"Topic1\", \"Topic1\", \"Topic1\", \"Topic1\", \"Topic1\", \"Topic1\", \"Topic1\", \"Topic1\", \"Topic1\", \"Topic1\", \"Topic1\", \"Topic1\", \"Topic1\", \"Topic1\", \"Topic1\", \"Topic1\", \"Topic1\", \"Topic1\", \"Topic1\", \"Topic1\", \"Topic1\", \"Topic1\", \"Topic1\", \"Topic1\", \"Topic1\", \"Topic1\", \"Topic1\", \"Topic1\", \"Topic1\", \"Topic1\", \"Topic1\", \"Topic1\", \"Topic1\", \"Topic1\", \"Topic1\", \"Topic1\", \"Topic1\", \"Topic1\", \"Topic1\", \"Topic2\", \"Topic2\", \"Topic2\", \"Topic2\", \"Topic2\", \"Topic2\", \"Topic2\", \"Topic2\", \"Topic2\", \"Topic2\", \"Topic2\", \"Topic2\", \"Topic2\", \"Topic2\", \"Topic2\", \"Topic2\", \"Topic2\", \"Topic2\", \"Topic2\", \"Topic2\", \"Topic2\", \"Topic2\", \"Topic2\", \"Topic2\", \"Topic2\", \"Topic2\", \"Topic2\", \"Topic2\", \"Topic2\", \"Topic2\", \"Topic2\", \"Topic2\", \"Topic2\", \"Topic2\", \"Topic2\", \"Topic2\", \"Topic2\", \"Topic2\", \"Topic2\", \"Topic2\", \"Topic2\", \"Topic2\", \"Topic2\", \"Topic2\", \"Topic2\", \"Topic2\", \"Topic2\", \"Topic2\", \"Topic2\", \"Topic2\", \"Topic2\", \"Topic2\", \"Topic2\", \"Topic2\", \"Topic2\", \"Topic2\", \"Topic2\", \"Topic2\", \"Topic2\", \"Topic2\", \"Topic2\", \"Topic2\", \"Topic2\", \"Topic3\", \"Topic3\", \"Topic3\", \"Topic3\", \"Topic3\", \"Topic3\", \"Topic3\", \"Topic3\", \"Topic3\", \"Topic3\", \"Topic3\", \"Topic3\", \"Topic3\", \"Topic3\", \"Topic3\", \"Topic3\", \"Topic3\", \"Topic3\", \"Topic3\", \"Topic3\", \"Topic3\", \"Topic3\", \"Topic3\", \"Topic3\", \"Topic3\", \"Topic3\", \"Topic3\", \"Topic3\", \"Topic3\", \"Topic3\", \"Topic3\", \"Topic3\", \"Topic3\", \"Topic3\", \"Topic3\", \"Topic3\", \"Topic3\", \"Topic3\", \"Topic3\", \"Topic3\", \"Topic3\", \"Topic3\", \"Topic3\", \"Topic3\", \"Topic3\", \"Topic3\", \"Topic3\", \"Topic3\", \"Topic3\"], \"Freq\": [2948.0, 1205.0, 719.0, 676.0, 768.0, 752.0, 413.0, 366.0, 489.0, 262.0, 255.0, 242.0, 238.0, 455.0, 233.0, 215.0, 9644.0, 1035.0, 197.0, 301.0, 213.0, 156.0, 152.0, 240.0, 219.0, 299.0, 177.0, 174.0, 192.0, 358.0, 750.9122485457465, 191.51697235825472, 153.09456396939868, 150.28226776596227, 146.5333765978375, 142.7840996902609, 138.07537201771268, 486.7657466951801, 110.91525791144106, 109.04062011413714, 111.83039478036343, 104.30355529295093, 77.16693349981148, 74.34186149880233, 73.40862679841918, 70.59807694229401, 70.58021565151992, 90.0558060222173, 64.03335818775463, 65.88441263009665, 59.346151867575415, 56.54152111028032, 55.60757279724398, 55.60420278418786, 54.65578867314111, 62.05605406337954, 53.71965671648339, 148.15603249285593, 144.44977085502887, 49.00423493748736, 119.92089156961033, 145.29864609675298, 66.45656376034727, 103.11505811351473, 85.1775446633493, 81.41639791991415, 227.425353045913, 109.61659138376324, 115.631517297576, 142.96531315797512, 5410.056343858178, 477.76472080649035, 286.4652195861534, 235.21391625950062, 139.0135293190339, 113.8944611022705, 161.29691224768743, 178.17477733067378, 164.67501041107013, 206.11437924590632, 236.58780459047037, 122.48840517894956, 195.1229850249183, 159.60492940402196, 127.51925502996585, 134.74673464925098, 767.6310604134028, 213.2885384184578, 176.4759041539095, 173.49616041348946, 139.66289760719235, 146.48390689139708, 116.76037507061044, 103.82145591240545, 99.84850523834545, 95.87055441942348, 95.87055441376059, 94.86313185747959, 107.63112136562611, 84.91439198841056, 81.93289886391001, 83.89960009256183, 79.93781306432835, 75.93437840837163, 70.93362965944287, 66.98976430795561, 110.26456218331498, 121.09386405019372, 60.02629384498278, 57.039312238294904, 55.06713121510831, 60.93939317385775, 55.04003158026784, 54.046366091431445, 56.00032312000994, 56.94958374526766, 73.57848975773312, 75.33803406544176, 211.29233811200257, 159.71925047376442, 64.58260484262728, 85.04300917105573, 276.49868893614706, 408.29106776278263, 91.44762654777993, 123.25681456489126, 102.6137757995656, 255.600967894824, 162.15311922223253, 317.8636764901609, 657.5979413828092, 341.19621851075493, 250.40731275827437, 3066.6502770192446, 133.77715054288902, 164.1083139065022, 231.68810973628436, 336.1166560251606, 173.70761874126285, 127.34425356540409, 282.4622854279231, 147.44829442842553, 177.7690647957743, 123.66175533204455, 279.7471989532115, 151.70136528955317, 158.86100256976934, 135.5718053189075, 127.76408094978986, 1204.6081899147741, 718.6008369747186, 261.8727116221892, 255.04019956369837, 241.3783118995879, 237.4736066475779, 232.59409942023095, 215.02682162258384, 196.47397948616947, 365.64410067916197, 151.57373348888345, 155.4074842020468, 121.32734929287227, 671.8844431541331, 93.03422724918525, 91.08472102691573, 85.20734721719707, 410.36907299410814, 77.41812550622107, 77.41088787998754, 77.40296756302195, 71.5519391734849, 66.68381641010505, 64.73347541575926, 61.80771720577804, 65.65961353459738, 59.81589379554695, 63.65111499456777, 52.0431740125506, 51.072226712749, 64.42694088163375, 72.97062790124201, 114.98622581325915, 2558.8604817889754, 188.78848195185213, 77.13530738871954, 193.9139305071516, 96.0678626968923, 124.91660763094042, 1168.1210947552827, 242.05344520929236, 281.9885190093405, 142.9438920799671, 162.09268188428527, 133.30045518508595, 124.91797724066076, 143.46958258387625, 109.19586799727713, 100.76312635180918], \"Term\": [\"rt\", \"cardi\", \"iamcardib\", \"like\", \"hillary\", \"http\", \"donald\", \"donald trump\", \"today\", \"um\", \"yea\", \"um yea\", \"bartier\", \"president\", \"bartier cardi\", \"offset\", \"https\", \"trump\", \"song\", \"country\", \"news\", \"bitch\", \"shit\", \"really\", \"potus\", \"vote\", \"clinton\", \"fake\", \"episode\", \"don\", \"http\", \"episode\", \"today episode\", \"skateline\", \"episode skateline\", \"today episode skateline\", \"crew\", \"today\", \"skateline https\", \"episode skateline https\", \"honor\", \"united states\", \"epic\", \"pro\", \"trip\", \"edit\", \"welcome\", \"cut\", \"road\", \"whitehouse\", \"rail\", \"soty\", \"great honor\", \"heavy\", \"raw\", \"taxes\", \"photos\", \"yellow\", \"bodak yellow\", \"2017\", \"states\", \"skate\", \"rt timkaine\", \"skateboarding\", \"lot\", \"spots\", \"day\", \"family\", \"skating\", \"gets\", \"https\", \"great\", \"video\", \"thank\", \"check\", \"united\", \"year\", \"big\", \"years\", \"time\", \"new\", \"bodak\", \"amp\", \"just\", \"tax\", \"people\", \"hillary\", \"news\", \"clinton\", \"fake\", \"fake news\", \"campaign\", \"hillary clinton\", \"korea\", \"hillary https\", \"https ttgeqxnqym\", \"ttgeqxnqym\", \"russia\", \"white\", \"media\", \"fbi\", \"make sure\", \"north korea\", \"change\", \"white house\", \"candidate\", \"north\", \"believe\", \"president https\", \"nuclear\", \"comey\", \"totally\", \"york\", \"new york\", \"foxnews\", \"college\", \"wall\", \"future\", \"potus\", \"democrats\", \"style\", \"trade\", \"country\", \"president\", \"republicans\", \"sure\", \"obama\", \"vote\", \"election\", \"make\", \"trump\", \"people\", \"america\", \"https\", \"working\", \"ve\", \"don\", \"just\", \"going\", \"house\", \"amp\", \"need\", \"want\", \"help\", \"rt\", \"good\", \"great\", \"let\", \"best\", \"cardi\", \"iamcardib\", \"um\", \"yea\", \"um yea\", \"bartier\", \"bartier cardi\", \"offset\", \"song\", \"donald trump\", \"shit\", \"bitch\", \"album\", \"like\", \"cardib\", \"drip\", \"cause\", \"donald\", \"ft\", \"careful\", \"listening\", \"fuck\", \"offsetyrn\", \"invasionofprivacy\", \"cardi offset\", \"rt thebriefing2016\", \"america great\", \"feel\", \"smoke\", \"bardier\", \"baby\", \"thebriefing2016\", \"music\", \"rt\", \"really\", \"girls\", \"love\", \"money\", \"said\", \"https\", \"amp\", \"trump\", \"got\", \"new\", \"want\", \"don\", \"just\", \"good\", \"know\"], \"Total\": [2948.0, 1205.0, 719.0, 676.0, 768.0, 752.0, 413.0, 366.0, 489.0, 262.0, 255.0, 242.0, 238.0, 455.0, 233.0, 215.0, 9644.0, 1035.0, 197.0, 301.0, 213.0, 156.0, 152.0, 240.0, 219.0, 299.0, 177.0, 174.0, 192.0, 358.0, 752.7677920057122, 192.1826997634376, 153.7523095316757, 150.94037062900077, 147.1910844580627, 143.44181426999035, 138.75639892357654, 489.4280951727803, 111.5730171557493, 109.69838202400429, 112.51163142624574, 105.01482765998941, 77.82982607185953, 75.01868216603975, 74.08113803155678, 71.26899452544907, 71.27007594626664, 90.96250046745712, 64.70795764584719, 66.58400633061382, 60.02133569591076, 57.20911391816779, 56.27163915679195, 56.27173890380553, 55.334887803161976, 62.83901581010313, 54.39773421418843, 150.0520594777512, 146.30101768678287, 49.71268942907325, 121.96406217345539, 148.26248408253326, 67.53889694144236, 106.0833689906945, 87.28439453246725, 83.53858947510047, 244.38775391180803, 114.63460566290445, 122.22919597325435, 158.1198345346898, 9644.827715632706, 683.1478253890847, 377.66704119456114, 299.11032400949443, 162.30443737561168, 130.29887580711588, 208.60016535084046, 259.68784545524386, 236.63889665183726, 351.8237976503921, 501.6905117747118, 155.01298131558582, 719.6387156621338, 639.1911680130588, 221.02096417034113, 495.876954352872, 768.3228344429169, 213.95646644115095, 177.1323225503367, 174.14665826870063, 140.30747503132042, 147.2709746818298, 117.41597398441232, 104.47703434430956, 100.49648116874134, 96.51549525619299, 96.51549525586387, 95.51975084968991, 108.45081797184552, 85.56721098691989, 82.58141813757771, 84.57160120224577, 80.59062474977978, 76.608752805595, 71.63051807207518, 67.65184194248063, 111.41344030863927, 122.36366468298239, 60.684975992773275, 57.699336446751616, 55.70941286764344, 61.675549986579405, 55.70819976915173, 54.713028292204, 56.7014489566594, 57.69394433304531, 74.59686489390056, 76.57398272694962, 219.464426781382, 165.8458032176757, 65.64443303849804, 87.44923025767659, 301.99609400798823, 455.8922172216733, 94.38333577741805, 130.22713182118054, 107.21878099688797, 299.84297973573325, 183.79683967135776, 427.7124570396463, 1035.5063061844735, 495.876954352872, 346.89331894196914, 9644.827715632706, 160.0143049749572, 215.10631213166607, 358.679508366002, 639.1911680130588, 241.77231231793837, 152.7132838955926, 719.6387156621338, 209.73684057871432, 350.2474257325, 153.44101920554837, 2948.216329321928, 353.3998087381508, 683.1478253890847, 264.7003885918115, 174.94934695246639, 1205.2602661344476, 719.24993856016, 262.5173054595122, 255.6858187376981, 242.0228876303072, 238.11918319389255, 233.2395614661203, 215.6729137123092, 197.13014065410428, 366.9374478803903, 152.2374062152158, 156.13817443719077, 121.98398759770677, 676.2324247378655, 93.68224952527822, 91.73049161945443, 85.87514766498704, 413.78656020325116, 78.06752942476203, 78.06737157641932, 78.06763610275188, 72.21172052292052, 67.33230185533611, 65.38053224206756, 62.45274464551245, 66.35712719844072, 60.50094076844078, 64.40262413294984, 52.69340240498038, 51.717594727945304, 65.36894571789905, 74.17440506271659, 117.98404828480206, 2948.216329321928, 240.8128189963292, 82.74453866376383, 285.42276480659376, 116.22551347642636, 189.09669249276328, 9644.827715632706, 719.6387156621338, 1035.5063061844735, 280.97117147260207, 501.6905117747118, 350.2474257325, 358.679508366002, 639.1911680130588, 353.3998087381508, 284.71930618580893], \"loglift\": [30.0, 29.0, 28.0, 27.0, 26.0, 25.0, 24.0, 23.0, 22.0, 21.0, 20.0, 19.0, 18.0, 17.0, 16.0, 15.0, 14.0, 13.0, 12.0, 11.0, 10.0, 9.0, 8.0, 7.0, 6.0, 5.0, 4.0, 3.0, 2.0, 1.0, 0.9253, 0.9242, 0.9234, 0.9233, 0.9232, 0.9231, 0.9228, 0.9223, 0.9218, 0.9217, 0.9216, 0.9209, 0.9192, 0.9187, 0.9186, 0.9183, 0.918, 0.9177, 0.9172, 0.9172, 0.9164, 0.916, 0.9158, 0.9158, 0.9154, 0.9152, 0.9152, 0.915, 0.915, 0.9134, 0.9108, 0.9075, 0.9116, 0.8993, 0.9033, 0.902, 0.8558, 0.883, 0.8722, 0.827, 0.3496, 0.5701, 0.6513, 0.6874, 0.7728, 0.7932, 0.6705, 0.551, 0.5652, 0.393, 0.1761, 0.6922, -0.3774, -0.4598, 0.3777, -0.3752, 1.0353, 1.0331, 1.0325, 1.0324, 1.0316, 1.0308, 1.0306, 1.0299, 1.0297, 1.0295, 1.0295, 1.0293, 1.0286, 1.0285, 1.0283, 1.0282, 1.0281, 1.0273, 1.0264, 1.0264, 1.0258, 1.0258, 1.0253, 1.0247, 1.0246, 1.0242, 1.0241, 1.0239, 1.0237, 1.0232, 1.0224, 1.0199, 0.9982, 0.9985, 1.0199, 1.0083, 0.948, 0.9259, 1.0046, 0.9812, 0.9923, 0.8765, 0.9109, 0.7394, 0.5821, 0.6623, 0.7103, -0.1096, 0.8571, 0.7656, 0.5992, 0.3934, 0.7056, 0.8545, 0.101, 0.6838, 0.358, 0.8204, -1.3189, 0.1905, -0.4225, 0.3671, 0.7219, 1.3868, 1.3864, 1.3849, 1.3848, 1.3847, 1.3846, 1.3846, 1.3843, 1.384, 1.3838, 1.383, 1.3826, 1.3819, 1.3809, 1.3804, 1.3803, 1.3795, 1.379, 1.379, 1.3789, 1.3788, 1.3782, 1.3777, 1.3774, 1.3769, 1.3768, 1.3759, 1.3756, 1.3749, 1.3748, 1.3728, 1.371, 1.3616, 1.2457, 1.1439, 1.3171, 1.0008, 1.1969, 0.9727, -0.7237, 0.2977, 0.0866, 0.7115, 0.2575, 0.4213, 0.3326, -0.1067, 0.2129, 0.3486], \"logprob\": [30.0, 29.0, 28.0, 27.0, 26.0, 25.0, 24.0, 23.0, 22.0, 21.0, 20.0, 19.0, 18.0, 17.0, 16.0, 15.0, 14.0, 13.0, 12.0, 11.0, 10.0, 9.0, 8.0, 7.0, 6.0, 5.0, 4.0, 3.0, 2.0, 1.0, -4.1179, -5.4842, -5.7081, -5.7267, -5.7519, -5.7779, -5.8114, -4.5514, -6.0304, -6.0475, -6.0222, -6.0919, -6.3932, -6.4305, -6.4431, -6.4822, -6.4824, -6.2388, -6.5798, -6.5513, -6.6558, -6.7042, -6.7209, -6.7209, -6.7381, -6.6112, -6.7554, -5.7409, -5.7663, -6.8473, -5.9524, -5.7604, -6.5426, -6.1033, -6.2945, -6.3396, -5.3124, -6.0422, -5.9888, -5.7766, -2.1432, -4.5701, -5.0816, -5.2787, -5.8046, -6.0039, -5.6559, -5.5564, -5.6352, -5.4108, -5.2729, -5.9312, -5.4656, -5.6665, -5.8909, -5.8358, -3.9874, -5.2681, -5.4575, -5.4746, -5.6915, -5.6438, -5.8706, -5.988, -6.0271, -6.0677, -6.0677, -6.0783, -5.952, -6.1891, -6.2248, -6.2011, -6.2495, -6.3008, -6.369, -6.4262, -5.9278, -5.8342, -6.5359, -6.587, -6.6222, -6.5208, -6.6227, -6.6409, -6.6054, -6.5886, -6.3324, -6.3087, -5.2775, -5.5573, -6.4628, -6.1876, -5.0085, -4.6187, -6.115, -5.8164, -5.9997, -5.0871, -5.5422, -4.8691, -4.1421, -4.7983, -5.1076, -2.6024, -5.7345, -5.5302, -5.1853, -4.8133, -5.4733, -5.7838, -4.9872, -5.6372, -5.4502, -5.8132, -4.9968, -5.6088, -5.5627, -5.7212, -5.7805, -3.1857, -3.7023, -4.7117, -4.7382, -4.7932, -4.8095, -4.8303, -4.9088, -4.999, -4.3779, -5.2585, -5.2335, -5.4811, -3.7695, -5.7466, -5.7678, -5.8345, -4.2625, -5.9304, -5.9304, -5.9306, -6.0092, -6.0796, -6.1093, -6.1555, -6.0951, -6.1883, -6.1262, -6.3275, -6.3463, -6.114, -5.9895, -5.5348, -2.4323, -5.0389, -5.934, -5.0122, -5.7145, -5.4519, -3.2164, -4.7904, -4.6377, -5.3171, -5.1914, -5.387, -5.4519, -5.3135, -5.5864, -5.6668]}, \"token.table\": {\"Topic\": [1, 3, 1, 2, 3, 3, 1, 2, 3, 1, 3, 3, 3, 3, 1, 2, 3, 1, 2, 3, 1, 2, 3, 1, 3, 1, 3, 2, 2, 3, 3, 3, 3, 3, 2, 1, 2, 3, 2, 2, 2, 1, 2, 1, 1, 3, 1, 2, 3, 1, 2, 1, 2, 3, 1, 2, 3, 1, 2, 3, 3, 1, 1, 2, 1, 1, 1, 1, 2, 2, 1, 2, 3, 2, 3, 2, 3, 3, 1, 2, 1, 2, 3, 1, 3, 1, 2, 3, 1, 2, 3, 1, 2, 3, 1, 2, 3, 1, 1, 1, 2, 2, 2, 2, 1, 1, 2, 1, 2, 1, 2, 3, 2, 3, 3, 1, 2, 3, 1, 2, 3, 2, 1, 2, 3, 1, 2, 3, 3, 1, 2, 1, 2, 3, 1, 2, 3, 2, 2, 1, 2, 3, 1, 3, 1, 2, 3, 1, 2, 3, 2, 2, 1, 2, 2, 2, 1, 2, 3, 3, 1, 2, 3, 1, 1, 2, 1, 2, 2, 1, 1, 1, 1, 2, 3, 1, 2, 1, 1, 2, 3, 3, 1, 3, 2, 1, 2, 3, 3, 1, 2, 1, 2, 1, 1, 1, 2, 3, 3, 1, 1, 2, 1, 2, 1, 2, 3, 2, 3, 1, 2, 1, 1, 2, 3, 2, 3, 1, 2, 3, 1, 2, 1, 1, 2, 1, 2, 1, 1, 2, 3, 2, 3, 3, 1, 2, 1, 1, 2, 3, 1, 2, 3, 1, 2, 1, 2, 1, 2, 3, 1, 2, 2, 1, 1, 2, 3, 3, 1, 2, 3, 1, 2, 1, 3, 2], \"Freq\": [0.985663832770704, 0.9919334691619373, 0.10377830311001851, 0.7206826604862396, 0.17296383851669753, 0.9917201160497973, 0.2709693013397453, 0.3918632973220932, 0.3362798508934275, 0.01529778381795416, 0.9790581643490662, 0.9861247466801166, 0.9952999032716267, 0.9989728952300612, 0.008172360664342493, 0.9888556403854416, 0.008172360664342493, 0.040011581191565664, 0.7316403417886294, 0.23435354697917032, 0.6854383180235425, 0.31191294247138734, 0.9927104666024604, 0.7870308600260014, 0.20643432394124628, 0.9842720322581137, 0.0136704448924738, 0.9913698222981434, 0.9903647569117949, 0.9997840581476378, 0.9927506045077399, 0.9927174088075871, 0.986327558429779, 0.9898090694597564, 0.9920537434261618, 0.8564152788892667, 0.05545134899283022, 0.08625765398884701, 0.993607476410665, 0.98797197277691, 0.9872658347821959, 0.08278252764202544, 0.9139191051679609, 0.9945487276302613, 0.9894187114194221, 0.010993541237993579, 0.9288517790540244, 0.004091858057506715, 0.06546972892010744, 0.036178184093841007, 0.9647515758357601, 0.005576008535060135, 0.6468169900669756, 0.3485005334412584, 0.0024167048816394663, 0.0048334097632789326, 0.9908490014721812, 0.0027252601384145656, 0.0027252601384145656, 0.997445210659731, 0.9920365452473002, 0.9962256444441205, 0.11425658916415289, 0.8814079735520366, 0.9893379426147842, 0.9990493433401524, 0.9987017932589718, 0.9936336160012691, 0.9934155597351091, 0.9978085627208972, 0.9595706232328045, 0.03489347720846562, 0.008723369302116405, 0.9929594556415937, 0.9937483272091727, 0.9876290823327009, 0.9863255641285426, 0.9970680587391169, 0.013059265881021723, 0.9794449410766293, 0.9043773693592332, 0.01897295180473916, 0.07589180721895664, 0.06042694878410919, 0.9305750112752815, 0.1695810393130694, 0.7196853863530263, 0.11167531857202131, 0.26315803715928926, 0.4301077596581932, 0.3084325381759412, 0.16371786386093895, 0.3274357277218779, 0.5089490115677016, 0.6997021467904938, 0.23274611158930653, 0.06879916506098999, 0.9951727164720567, 0.9951709524336887, 0.1889977018541035, 0.8081281044796149, 0.9995798192785055, 0.9964572624124589, 0.9950597158928609, 0.9954526352541503, 0.16370547055416645, 0.8316237904151657, 0.9976516104640955, 0.002656861812154715, 0.560922409348097, 0.31799427531804314, 0.12110117821045792, 0.9946589378749532, 0.9996525011032182, 0.9941797316568385, 0.25031634979776685, 0.5256643345753104, 0.22372023763175414, 0.33366195384728364, 0.3125885672885078, 0.3547353404060595, 0.9954340746049752, 0.22289351486741704, 0.5137884410503173, 0.26822778907773914, 0.004436344502650726, 0.0029575630017671505, 0.9937411685937625, 0.9863242163327879, 0.9738281448281397, 0.022913603407720935, 0.18919303804162613, 0.12963226680629938, 0.6796935070384346, 0.058450483703547246, 0.743490152709121, 0.19873164459206064, 0.9932412157967917, 0.9933711642534826, 0.043019814242542656, 0.12905944272762795, 0.825980433456819, 0.02542716616027864, 0.9747080361440146, 0.1144291099922085, 0.700878298702277, 0.1811794241543301, 0.4724027950252062, 0.20530585606580692, 0.3229082396374827, 0.9869678518177434, 0.9955296212493113, 0.008975577786932925, 0.9873135565626218, 0.9926712970446182, 0.9878796449003013, 0.03730689682170608, 0.9606525931589315, 0.9968799340597456, 0.9950647483276294, 0.27224495676790894, 0.6876705945026441, 0.04033258618783836, 0.9926884047665961, 0.036452376894635166, 0.9614314405960025, 0.1030945434568511, 0.894948377242452, 0.9887125934950548, 0.9864209535994635, 0.9829837892797787, 0.993947980804565, 0.02076301428154544, 0.1951723342465271, 0.7848419398424176, 0.03178527200050259, 0.9641532506819117, 0.9890591872838591, 0.037310694912709934, 0.09497267795962529, 0.8679824389238611, 0.9946181033821321, 0.9772146568698535, 0.014806282679846267, 0.9945587080675306, 0.04230639835388004, 0.29614478847716025, 0.6610374742793755, 0.9984405526794106, 0.9779952150220474, 0.020234383759076845, 0.9709344733295097, 0.028279644854257564, 0.9937699197035091, 0.9948641959287575, 0.9490367589866385, 0.04908810822344682, 0.9868408116892667, 0.9942670326802674, 0.9963447446770998, 0.9696117747372653, 0.023941031474994205, 0.9838963860463902, 0.01639827310077317, 0.01523358423117977, 0.9901829750266851, 0.01523358423117977, 0.9445036397553134, 0.05375223966087149, 0.5791305837456678, 0.4207745647527118, 0.9866481707377691, 0.7856632858735447, 0.07020820852486995, 0.1437596650747337, 0.013481739410710087, 0.9841669769818363, 0.5855203695024136, 0.31549883987751415, 0.09948161617759455, 0.9950389133833376, 0.0040864021083504625, 0.9951070033746666, 0.9969199060103998, 0.9890467132157491, 0.02287041285677221, 0.971992546412819, 0.9854060283051236, 0.09270827171852856, 0.6354379457374145, 0.27233054817317764, 0.994658937878345, 0.998029442445302, 0.9957735913312891, 0.8749116160354028, 0.12279461277689864, 0.9903363393284312, 0.09297728087011248, 0.7624137031349223, 0.14411478534867433, 0.7572808024109856, 0.010591339893859937, 0.23036164269145365, 0.1467434723293486, 0.8537802026434826, 0.013405389106128042, 0.9919987938534752, 0.1113498548017483, 0.5082121578131077, 0.3797315561187827, 0.996210528153916, 0.9958431113727279, 0.9911976335080985, 0.9912290298707168, 0.10624050145179556, 0.8374251290906238, 0.062494412618703275, 0.997317728683257, 0.7718114687455655, 0.1342280815209679, 0.09587720108640566, 0.6972649143253979, 0.30426105352381, 0.9863243497963755, 0.01332870742968075, 0.9872873334251254], \"Term\": [\"2017\", \"album\", \"america\", \"america\", \"america\", \"america great\", \"amp\", \"amp\", \"amp\", \"baby\", \"baby\", \"bardier\", \"bartier\", \"bartier cardi\", \"believe\", \"believe\", \"believe\", \"best\", \"best\", \"best\", \"big\", \"big\", \"bitch\", \"bodak\", \"bodak\", \"bodak yellow\", \"bodak yellow\", \"campaign\", \"candidate\", \"cardi\", \"cardi offset\", \"cardib\", \"careful\", \"cause\", \"change\", \"check\", \"check\", \"check\", \"clinton\", \"college\", \"comey\", \"country\", \"country\", \"crew\", \"cut\", \"cut\", \"day\", \"day\", \"day\", \"democrats\", \"democrats\", \"don\", \"don\", \"don\", \"donald\", \"donald\", \"donald\", \"donald trump\", \"donald trump\", \"donald trump\", \"drip\", \"edit\", \"election\", \"election\", \"epic\", \"episode\", \"episode skateline\", \"episode skateline https\", \"fake\", \"fake news\", \"family\", \"family\", \"family\", \"fbi\", \"feel\", \"foxnews\", \"ft\", \"fuck\", \"future\", \"future\", \"gets\", \"gets\", \"gets\", \"girls\", \"girls\", \"going\", \"going\", \"going\", \"good\", \"good\", \"good\", \"got\", \"got\", \"got\", \"great\", \"great\", \"great\", \"great honor\", \"heavy\", \"help\", \"help\", \"hillary\", \"hillary clinton\", \"hillary https\", \"honor\", \"house\", \"house\", \"http\", \"http\", \"https\", \"https\", \"https\", \"https ttgeqxnqym\", \"iamcardib\", \"invasionofprivacy\", \"just\", \"just\", \"just\", \"know\", \"know\", \"know\", \"korea\", \"let\", \"let\", \"let\", \"like\", \"like\", \"like\", \"listening\", \"lot\", \"lot\", \"love\", \"love\", \"love\", \"make\", \"make\", \"make\", \"make sure\", \"media\", \"money\", \"money\", \"money\", \"music\", \"music\", \"need\", \"need\", \"need\", \"new\", \"new\", \"new\", \"new york\", \"news\", \"north\", \"north\", \"north korea\", \"nuclear\", \"obama\", \"obama\", \"offset\", \"offsetyrn\", \"people\", \"people\", \"people\", \"photos\", \"potus\", \"potus\", \"president\", \"president\", \"president https\", \"pro\", \"rail\", \"raw\", \"really\", \"really\", \"really\", \"republicans\", \"republicans\", \"road\", \"rt\", \"rt\", \"rt\", \"rt thebriefing2016\", \"rt timkaine\", \"rt timkaine\", \"russia\", \"said\", \"said\", \"said\", \"shit\", \"skate\", \"skate\", \"skateboarding\", \"skateboarding\", \"skateline\", \"skateline https\", \"skating\", \"skating\", \"smoke\", \"song\", \"soty\", \"spots\", \"spots\", \"states\", \"states\", \"style\", \"style\", \"style\", \"sure\", \"sure\", \"tax\", \"tax\", \"taxes\", \"thank\", \"thank\", \"thank\", \"thebriefing2016\", \"thebriefing2016\", \"time\", \"time\", \"time\", \"today\", \"today\", \"today episode\", \"today episode skateline\", \"totally\", \"trade\", \"trade\", \"trip\", \"trump\", \"trump\", \"trump\", \"ttgeqxnqym\", \"um\", \"um yea\", \"united\", \"united\", \"united states\", \"ve\", \"ve\", \"ve\", \"video\", \"video\", \"video\", \"vote\", \"vote\", \"wall\", \"wall\", \"want\", \"want\", \"want\", \"welcome\", \"white\", \"white house\", \"whitehouse\", \"working\", \"working\", \"working\", \"yea\", \"year\", \"year\", \"year\", \"years\", \"years\", \"yellow\", \"yellow\", \"york\"]}, \"R\": 30, \"lambda.step\": 0.01, \"plot.opts\": {\"xlab\": \"PC1\", \"ylab\": \"PC2\"}, \"topic.order\": [1, 3, 2]};\n",
       "\n",
       "function LDAvis_load_lib(url, callback){\n",
       "  var s = document.createElement('script');\n",
       "  s.src = url;\n",
       "  s.async = true;\n",
       "  s.onreadystatechange = s.onload = callback;\n",
       "  s.onerror = function(){console.warn(\"failed to load library \" + url);};\n",
       "  document.getElementsByTagName(\"head\")[0].appendChild(s);\n",
       "}\n",
       "\n",
       "if(typeof(LDAvis) !== \"undefined\"){\n",
       "   // already loaded: just create the visualization\n",
       "   !function(LDAvis){\n",
       "       new LDAvis(\"#\" + \"ldavis_el61371404238431196967120430988\", ldavis_el61371404238431196967120430988_data);\n",
       "   }(LDAvis);\n",
       "}else if(typeof define === \"function\" && define.amd){\n",
       "   // require.js is available: use it to load d3/LDAvis\n",
       "   require.config({paths: {d3: \"https://cdnjs.cloudflare.com/ajax/libs/d3/3.5.5/d3.min\"}});\n",
       "   require([\"d3\"], function(d3){\n",
       "      window.d3 = d3;\n",
       "      LDAvis_load_lib(\"https://cdn.rawgit.com/bmabey/pyLDAvis/files/ldavis.v1.0.0.js\", function(){\n",
       "        new LDAvis(\"#\" + \"ldavis_el61371404238431196967120430988\", ldavis_el61371404238431196967120430988_data);\n",
       "      });\n",
       "    });\n",
       "}else{\n",
       "    // require.js not available: dynamically load d3 & LDAvis\n",
       "    LDAvis_load_lib(\"https://cdnjs.cloudflare.com/ajax/libs/d3/3.5.5/d3.min.js\", function(){\n",
       "         LDAvis_load_lib(\"https://cdn.rawgit.com/bmabey/pyLDAvis/files/ldavis.v1.0.0.js\", function(){\n",
       "                 new LDAvis(\"#\" + \"ldavis_el61371404238431196967120430988\", ldavis_el61371404238431196967120430988_data);\n",
       "            })\n",
       "         });\n",
       "}\n",
       "</script>"
      ],
      "text/plain": [
       "PreparedData(topic_coordinates=              x         y  topics  cluster       Freq\n",
       "topic                                                \n",
       "0     -0.153262  0.155438       1        1  39.545493\n",
       "2     -0.103914 -0.176681       2        1  35.480406\n",
       "1      0.257176  0.021243       3        1  24.974101, topic_info=     Category         Freq       Term        Total  loglift  logprob\n",
       "3015  Default  2948.000000         rt  2948.000000  30.0000  30.0000\n",
       "529   Default  1205.000000      cardi  1205.000000  29.0000  29.0000\n",
       "1709  Default   719.000000  iamcardib   719.000000  28.0000  28.0000\n",
       "2066  Default   676.000000       like   676.000000  27.0000  27.0000\n",
       "1613  Default   768.000000    hillary   768.000000  26.0000  26.0000\n",
       "...       ...          ...        ...          ...      ...      ...\n",
       "3813   Topic3   133.300455       want   350.247426   0.4213  -5.3870\n",
       "1000   Topic3   124.917977        don   358.679508   0.3326  -5.4519\n",
       "1900   Topic3   143.469583       just   639.191168  -0.1067  -5.3135\n",
       "1446   Topic3   109.195868       good   353.399809   0.2129  -5.5864\n",
       "1957   Topic3   100.763126       know   284.719306   0.3486  -5.6668\n",
       "\n",
       "[198 rows x 6 columns], token_table=      Topic      Freq     Term\n",
       "term                          \n",
       "39        1  0.985664     2017\n",
       "137       3  0.991933    album\n",
       "155       1  0.103778  america\n",
       "155       2  0.720683  america\n",
       "155       3  0.172964  america\n",
       "...     ...       ...      ...\n",
       "3975      1  0.697265    years\n",
       "3975      2  0.304261    years\n",
       "3980      1  0.986324   yellow\n",
       "3980      3  0.013329   yellow\n",
       "3987      2  0.987287     york\n",
       "\n",
       "[266 rows x 3 columns], R=30, lambda_step=0.01, plot_opts={'xlab': 'PC1', 'ylab': 'PC2'}, topic_order=[1, 3, 2])"
      ]
     },
     "execution_count": 96,
     "metadata": {},
     "output_type": "execute_result"
    }
   ],
   "source": [
    "pyLDAvis.sklearn.prepare(lda, Xvect, cvect)"
   ]
  },
  {
   "cell_type": "code",
   "execution_count": 109,
   "metadata": {},
   "outputs": [],
   "source": [
    "import nltk"
   ]
  },
  {
   "cell_type": "code",
   "execution_count": 98,
   "metadata": {},
   "outputs": [],
   "source": [
    "emma = nltk.corpus.gutenberg.words('austen-emma.txt')"
   ]
  },
  {
   "cell_type": "code",
   "execution_count": 99,
   "metadata": {},
   "outputs": [
    {
     "data": {
      "text/plain": [
       "['[', 'Emma', 'by', 'Jane', 'Austen', '1816', ']', ...]"
      ]
     },
     "execution_count": 99,
     "metadata": {},
     "output_type": "execute_result"
    }
   ],
   "source": [
    "emma"
   ]
  },
  {
   "cell_type": "code",
   "execution_count": 100,
   "metadata": {},
   "outputs": [
    {
     "data": {
      "text/plain": [
       "nltk.corpus.reader.util.StreamBackedCorpusView"
      ]
     },
     "execution_count": 100,
     "metadata": {},
     "output_type": "execute_result"
    }
   ],
   "source": [
    "type(emma)"
   ]
  },
  {
   "cell_type": "code",
   "execution_count": 103,
   "metadata": {},
   "outputs": [
    {
     "data": {
      "text/plain": [
       "(192427,)"
      ]
     },
     "execution_count": 103,
     "metadata": {},
     "output_type": "execute_result"
    }
   ],
   "source": [
    "np.array(emma).shape"
   ]
  },
  {
   "cell_type": "code",
   "execution_count": 105,
   "metadata": {},
   "outputs": [],
   "source": [
    "emma = cvect.fit_transform(np.array(emma))"
   ]
  },
  {
   "cell_type": "code",
   "execution_count": 106,
   "metadata": {},
   "outputs": [
    {
     "data": {
      "text/plain": [
       "array([[0.33333333, 0.33333333, 0.33333333],\n",
       "       [0.16666786, 0.66666396, 0.16666818],\n",
       "       [0.33333333, 0.33333333, 0.33333333],\n",
       "       ...,\n",
       "       [0.16689657, 0.16691434, 0.66618909],\n",
       "       [0.33333333, 0.33333333, 0.33333333],\n",
       "       [0.33333333, 0.33333333, 0.33333333]])"
      ]
     },
     "execution_count": 106,
     "metadata": {},
     "output_type": "execute_result"
    }
   ],
   "source": [
    "lda.fit_transform(emma)"
   ]
  },
  {
   "cell_type": "code",
   "execution_count": 107,
   "metadata": {},
   "outputs": [
    {
     "name": "stderr",
     "output_type": "stream",
     "text": [
      "/Users/jacobkoehler/opt/anaconda3/lib/python3.7/site-packages/pyLDAvis/_prepare.py:257: FutureWarning: Sorting because non-concatenation axis is not aligned. A future version\n",
      "of pandas will change to not sort by default.\n",
      "\n",
      "To accept the future behavior, pass 'sort=False'.\n",
      "\n",
      "To retain the current behavior and silence the warning, pass 'sort=True'.\n",
      "\n",
      "  return pd.concat([default_term_info] + list(topic_dfs))\n"
     ]
    },
    {
     "data": {
      "text/html": [
       "\n",
       "<link rel=\"stylesheet\" type=\"text/css\" href=\"https://cdn.rawgit.com/bmabey/pyLDAvis/files/ldavis.v1.0.0.css\">\n",
       "\n",
       "\n",
       "<div id=\"ldavis_el61371404246897621286668804432\"></div>\n",
       "<script type=\"text/javascript\">\n",
       "\n",
       "var ldavis_el61371404246897621286668804432_data = {\"mdsDat\": {\"x\": [-0.3253217364607962, 0.2631937388151138, 0.06212799764568229], \"y\": [-0.11334487459590563, -0.21841334714256203, 0.3317582217384674], \"topics\": [1, 2, 3], \"cluster\": [1, 1, 1], \"Freq\": [35.13907864907339, 33.76544561656154, 31.095475734365056]}, \"tinfo\": {\"Category\": [\"Default\", \"Default\", \"Default\", \"Default\", \"Default\", \"Default\", \"Default\", \"Default\", \"Default\", \"Default\", \"Default\", \"Default\", \"Default\", \"Default\", \"Default\", \"Default\", \"Default\", \"Default\", \"Default\", \"Default\", \"Default\", \"Default\", \"Default\", \"Default\", \"Default\", \"Default\", \"Default\", \"Default\", \"Default\", \"Default\", \"Topic1\", \"Topic1\", \"Topic1\", \"Topic1\", \"Topic1\", \"Topic1\", \"Topic1\", \"Topic1\", \"Topic1\", \"Topic1\", \"Topic1\", \"Topic1\", \"Topic1\", \"Topic1\", \"Topic1\", \"Topic1\", \"Topic1\", \"Topic1\", \"Topic1\", \"Topic1\", \"Topic1\", \"Topic1\", \"Topic1\", \"Topic1\", \"Topic1\", \"Topic1\", \"Topic1\", \"Topic1\", \"Topic1\", \"Topic1\", \"Topic2\", \"Topic2\", \"Topic2\", \"Topic2\", \"Topic2\", \"Topic2\", \"Topic2\", \"Topic2\", \"Topic2\", \"Topic2\", \"Topic2\", \"Topic2\", \"Topic2\", \"Topic2\", \"Topic2\", \"Topic2\", \"Topic2\", \"Topic2\", \"Topic2\", \"Topic2\", \"Topic2\", \"Topic2\", \"Topic2\", \"Topic2\", \"Topic2\", \"Topic2\", \"Topic2\", \"Topic2\", \"Topic2\", \"Topic2\", \"Topic3\", \"Topic3\", \"Topic3\", \"Topic3\", \"Topic3\", \"Topic3\", \"Topic3\", \"Topic3\", \"Topic3\", \"Topic3\", \"Topic3\", \"Topic3\", \"Topic3\", \"Topic3\", \"Topic3\", \"Topic3\", \"Topic3\", \"Topic3\", \"Topic3\", \"Topic3\", \"Topic3\", \"Topic3\", \"Topic3\", \"Topic3\", \"Topic3\", \"Topic3\", \"Topic3\", \"Topic3\", \"Topic3\", \"Topic3\"], \"Freq\": [1034.0, 801.0, 627.0, 555.0, 454.0, 389.0, 434.0, 359.0, 395.0, 369.0, 357.0, 332.0, 344.0, 312.0, 316.0, 290.0, 278.0, 270.0, 259.0, 245.0, 253.0, 224.0, 207.0, 204.0, 218.0, 200.0, 210.0, 216.0, 216.0, 201.0, 1033.3915695734224, 626.6038020895122, 453.6742002021426, 433.9620175772367, 394.53765230176896, 343.46517903668865, 315.68892160307456, 278.0565727520915, 269.9924979849868, 252.96834012407268, 216.23199936209028, 216.23199936207072, 200.99985800878184, 194.7277997907201, 186.66372492546213, 172.32759178758127, 172.32759178757914, 158.88746690806246, 155.30343359461833, 148.13536694933757, 136.48725859075353, 132.00721689113013, 121.25511674740137, 112.2950332097604, 107.81499140542357, 106.02297467651218, 105.12696630981263, 103.33494957350159, 97.95889933322016, 97.06289095496655, 801.1555029472747, 554.882179776684, 368.78842766249846, 356.7525133203428, 331.7548450541659, 312.3122141616366, 290.0920645453441, 258.6135191974347, 244.72592563390535, 217.87657801370008, 209.5440218345487, 178.99131572683774, 178.9913157268217, 159.54868443604715, 141.95773218592353, 137.32853419852003, 135.47685499994975, 128.0701381822131, 121.58926093207299, 120.66342132206115, 120.6634213220048, 118.8117420992141, 111.40502517391865, 111.40502517389692, 104.92414781173812, 103.9983081839069, 93.81407218896686, 91.03655324811304, 89.1848739452897, 88.25903429088395, 388.8964020317481, 358.9297888790416, 224.0800291924539, 207.09894823412904, 204.10228688414352, 200.10673841511155, 160.1512535356442, 155.15681789387418, 143.1701723132655, 136.17796236036398, 125.19020380581493, 125.19020380575658, 121.19465522000264, 119.19688092236285, 117.19910662140907, 111.20578369701757, 102.21579923886799, 102.21579923867232, 102.21579923866928, 100.21802490108321, 99.2191377301835, 96.22247620830468, 95.22358903150949, 95.22358903147031, 95.2235890312394, 94.22470185287283, 93.22581467250552, 91.2280403066708, 90.22915312088264, 90.22915312081855], \"Term\": [\"mr\", \"emma\", \"mrs\", \"miss\", \"harriet\", \"knightley\", \"said\", \"little\", \"weston\", \"thing\", \"elton\", \"good\", \"think\", \"know\", \"did\", \"woodhouse\", \"say\", \"jane\", \"time\", \"great\", \"quite\", \"churchill\", \"father\", \"sure\", \"man\", \"like\", \"thought\", \"fairfax\", \"dear\", \"soon\", \"mr\", \"mrs\", \"harriet\", \"said\", \"weston\", \"think\", \"did\", \"say\", \"jane\", \"quite\", \"fairfax\", \"dear\", \"soon\", \"shall\", \"frank\", \"day\", \"young\", \"friend\", \"better\", \"just\", \"make\", \"having\", \"wish\", \"happy\", \"heard\", \"half\", \"love\", \"pleasure\", \"letter\", \"saw\", \"emma\", \"miss\", \"thing\", \"elton\", \"good\", \"know\", \"woodhouse\", \"time\", \"great\", \"man\", \"thought\", \"oh\", \"body\", \"come\", \"really\", \"bates\", \"long\", \"away\", \"woman\", \"does\", \"home\", \"mind\", \"going\", \"moment\", \"felt\", \"sort\", \"certainly\", \"doubt\", \"party\", \"house\", \"knightley\", \"little\", \"churchill\", \"father\", \"sure\", \"like\", \"hartfield\", \"way\", \"hope\", \"poor\", \"yes\", \"highbury\", \"look\", \"came\", \"room\", \"morning\", \"feelings\", \"believe\", \"till\", \"idea\", \"speak\", \"evening\", \"ought\", \"people\", \"feel\", \"word\", \"place\", \"looked\", \"randalls\", \"john\"], \"Total\": [1034.0, 801.0, 627.0, 555.0, 454.0, 389.0, 434.0, 359.0, 395.0, 369.0, 357.0, 332.0, 344.0, 312.0, 316.0, 290.0, 278.0, 270.0, 259.0, 245.0, 253.0, 224.0, 207.0, 204.0, 218.0, 200.0, 210.0, 216.0, 216.0, 201.0, 1034.0381727173326, 627.2504058119432, 454.3208044850277, 434.6086219524054, 395.1842568891593, 344.11178397156, 316.33552677417464, 278.70317831864924, 270.63910365064584, 253.61494601969298, 216.87860587762825, 216.87860587763006, 201.64646484792314, 195.37440677793936, 187.31033211758103, 172.9741993914897, 172.97419939148955, 159.53407496566743, 155.95004178639934, 148.78197542930113, 137.13386760368948, 132.65382613411055, 121.90172661215466, 112.94164368377766, 108.46160222235531, 106.66958563834456, 105.77357734651152, 103.98156076308123, 98.60551101522137, 97.70950272429508, 801.7915929546485, 555.5182702432505, 369.42451888328145, 357.3886046170298, 332.39093652610956, 312.9483057893075, 290.7281563765845, 259.2496113770204, 245.36201799571256, 218.5126707938248, 210.18011476630494, 179.62740933568648, 179.62740933568776, 160.18477861115878, 142.5938270072553, 137.96462921758442, 136.11295010182536, 128.70623363951483, 122.2253567360617, 121.29951717851348, 121.29951717851492, 119.44783806350539, 112.04112160451012, 112.0411216045117, 105.56024470451213, 104.63440514751764, 94.45017002326152, 91.67265135403584, 89.82097224149719, 88.89513268531387, 389.5070081812883, 359.54039516604905, 224.69063655379802, 207.70955583013978, 204.71289452558008, 200.71734611929222, 160.761862039872, 155.7674265271602, 143.78078129312343, 136.7885715705684, 125.80081343012849, 125.80081343012355, 121.80526501362934, 119.80749080496545, 117.80971659601197, 111.81639396726798, 102.8264100178959, 102.82641001787755, 102.8264100178786, 100.82863580572055, 99.82974869945733, 96.83308737986806, 95.83420027308999, 95.83420027308554, 95.83420027306548, 94.83531316615029, 93.83642605906036, 91.838651844433, 90.83976473686839, 90.8397647368634], \"loglift\": [30.0, 29.0, 28.0, 27.0, 26.0, 25.0, 24.0, 23.0, 22.0, 21.0, 20.0, 19.0, 18.0, 17.0, 16.0, 15.0, 14.0, 13.0, 12.0, 11.0, 10.0, 9.0, 8.0, 7.0, 6.0, 5.0, 4.0, 3.0, 2.0, 1.0, 1.0452, 1.0448, 1.0444, 1.0444, 1.0442, 1.044, 1.0438, 1.0435, 1.0435, 1.0433, 1.0429, 1.0429, 1.0426, 1.0425, 1.0424, 1.0421, 1.0421, 1.0418, 1.0417, 1.0415, 1.0411, 1.041, 1.0405, 1.0401, 1.0399, 1.0398, 1.0397, 1.0396, 1.0393, 1.0392, 1.0849, 1.0846, 1.084, 1.084, 1.0838, 1.0837, 1.0835, 1.0833, 1.0831, 1.0828, 1.0827, 1.0822, 1.0822, 1.0818, 1.0813, 1.0811, 1.081, 1.0808, 1.0805, 1.0805, 1.0805, 1.0804, 1.08, 1.08, 1.0797, 1.0796, 1.079, 1.0788, 1.0786, 1.0786, 1.1665, 1.1664, 1.1654, 1.1652, 1.1651, 1.1651, 1.1643, 1.1642, 1.1639, 1.1636, 1.1632, 1.1632, 1.1631, 1.163, 1.1629, 1.1626, 1.1622, 1.1622, 1.1622, 1.162, 1.162, 1.1618, 1.1617, 1.1617, 1.1617, 1.1616, 1.1616, 1.1614, 1.1614, 1.1614], \"logprob\": [30.0, 29.0, 28.0, 27.0, 26.0, 25.0, 24.0, 23.0, 22.0, 21.0, 20.0, 19.0, 18.0, 17.0, 16.0, 15.0, 14.0, 13.0, 12.0, 11.0, 10.0, 9.0, 8.0, 7.0, 6.0, 5.0, 4.0, 3.0, 2.0, 1.0, -2.9933, -3.4935, -3.8165, -3.8609, -3.9561, -4.0948, -4.1791, -4.306, -4.3355, -4.4006, -4.5575, -4.5575, -4.6306, -4.6623, -4.7046, -4.7845, -4.7845, -4.8657, -4.8885, -4.9357, -5.0176, -5.051, -5.136, -5.2127, -5.2534, -5.2702, -5.2787, -5.2959, -5.3493, -5.3585, -3.2079, -3.5752, -3.9838, -4.0169, -4.0896, -4.15, -4.2238, -4.3387, -4.3938, -4.5101, -4.5491, -4.7066, -4.7066, -4.8216, -4.9385, -4.9716, -4.9852, -5.0414, -5.0933, -5.101, -5.101, -5.1164, -5.1808, -5.1808, -5.2407, -5.2496, -5.3527, -5.3827, -5.4033, -5.4137, -3.8483, -3.9285, -4.3996, -4.4784, -4.493, -4.5128, -4.7355, -4.7672, -4.8476, -4.8976, -4.9818, -4.9818, -5.0142, -5.0308, -5.0477, -5.1002, -5.1845, -5.1845, -5.1845, -5.2043, -5.2143, -5.2449, -5.2554, -5.2554, -5.2554, -5.2659, -5.2766, -5.2982, -5.3093, -5.3093]}, \"token.table\": {\"Topic\": [2, 2, 3, 1, 2, 3, 2, 3, 2, 1, 1, 1, 2, 2, 2, 2, 3, 1, 3, 3, 3, 2, 1, 1, 2, 2, 2, 1, 1, 1, 3, 1, 1, 3, 2, 3, 2, 3, 1, 3, 1, 3, 2, 1, 3, 3, 2, 3, 3, 1, 1, 2, 2, 2, 2, 3, 1, 1, 2, 3, 2, 3, 3, 1, 3, 1, 3, 2, 3, 1, 1, 1, 1, 1, 2, 3, 3, 2, 1, 2, 3, 2, 3, 1, 1, 2, 2, 3, 3, 1], \"Freq\": [0.9945128249072, 0.9930081411224387, 0.9919630567892639, 0.9939080376284825, 0.9965071625872238, 0.9932600975152717, 0.99523378281743, 0.9969262779954221, 0.998846465857987, 0.9943679497004938, 0.9959488586987423, 0.9989393326206634, 0.9975307636379732, 0.9926624642780529, 0.9989126552665376, 0.9990127198119757, 0.9913966661354096, 0.9959488586987506, 0.9965839037722461, 0.9912953802432894, 0.9919630567890869, 0.9946926543597887, 0.9983432194365753, 0.9966522828067774, 0.9907076831291894, 0.9988238652648134, 0.998524555680338, 0.9937228064181787, 0.9916625643733844, 0.9992938811477249, 0.9952609279949554, 0.9950711852559041, 0.9957440954872768, 0.9936342746259874, 0.9975307636379613, 0.994569640767693, 0.9899304646016716, 0.9917817413763567, 0.9976385391393003, 0.9907555381798273, 0.9947441521256537, 0.9986983336098222, 0.9969697685791405, 0.9938592578752734, 0.9964260880628331, 0.9984969834452135, 0.9918233342162317, 0.9933889145634285, 0.99086820388159, 0.9926864783633318, 0.9917316734115141, 0.9976538166324069, 0.996250764595109, 0.9990670509486149, 0.9907076831291756, 0.9926987990016297, 0.9989960015551415, 0.9996007881228565, 0.9965071625872308, 0.991295380243036, 0.9908599047526464, 0.991295380243082, 0.9910863393440207, 0.9905602420671711, 0.9942351063285899, 0.9975752768937947, 0.9907555381797729, 0.9958355349616567, 0.9931269116045104, 0.9985996091157344, 0.9927386517737474, 0.9974769634028168, 0.9980836447101031, 0.9967940680318363, 0.9939369354981926, 0.9916883623342043, 0.9965175885611299, 0.9988508643536582, 0.9967691197356616, 0.999143045637285, 0.9919630567892538, 0.9990371774302974, 0.9950732541182068, 0.9995337443586195, 0.9926028397036277, 0.9981562194451324, 0.9974954046912426, 0.9911919606920385, 0.9936342746259486, 0.9943679497004946], \"Term\": [\"away\", \"bates\", \"believe\", \"better\", \"body\", \"came\", \"certainly\", \"churchill\", \"come\", \"day\", \"dear\", \"did\", \"does\", \"doubt\", \"elton\", \"emma\", \"evening\", \"fairfax\", \"father\", \"feel\", \"feelings\", \"felt\", \"frank\", \"friend\", \"going\", \"good\", \"great\", \"half\", \"happy\", \"harriet\", \"hartfield\", \"having\", \"heard\", \"highbury\", \"home\", \"hope\", \"house\", \"idea\", \"jane\", \"john\", \"just\", \"knightley\", \"know\", \"letter\", \"like\", \"little\", \"long\", \"look\", \"looked\", \"love\", \"make\", \"man\", \"mind\", \"miss\", \"moment\", \"morning\", \"mr\", \"mrs\", \"oh\", \"ought\", \"party\", \"people\", \"place\", \"pleasure\", \"poor\", \"quite\", \"randalls\", \"really\", \"room\", \"said\", \"saw\", \"say\", \"shall\", \"soon\", \"sort\", \"speak\", \"sure\", \"thing\", \"think\", \"thought\", \"till\", \"time\", \"way\", \"weston\", \"wish\", \"woman\", \"woodhouse\", \"word\", \"yes\", \"young\"]}, \"R\": 30, \"lambda.step\": 0.01, \"plot.opts\": {\"xlab\": \"PC1\", \"ylab\": \"PC2\"}, \"topic.order\": [1, 2, 3]};\n",
       "\n",
       "function LDAvis_load_lib(url, callback){\n",
       "  var s = document.createElement('script');\n",
       "  s.src = url;\n",
       "  s.async = true;\n",
       "  s.onreadystatechange = s.onload = callback;\n",
       "  s.onerror = function(){console.warn(\"failed to load library \" + url);};\n",
       "  document.getElementsByTagName(\"head\")[0].appendChild(s);\n",
       "}\n",
       "\n",
       "if(typeof(LDAvis) !== \"undefined\"){\n",
       "   // already loaded: just create the visualization\n",
       "   !function(LDAvis){\n",
       "       new LDAvis(\"#\" + \"ldavis_el61371404246897621286668804432\", ldavis_el61371404246897621286668804432_data);\n",
       "   }(LDAvis);\n",
       "}else if(typeof define === \"function\" && define.amd){\n",
       "   // require.js is available: use it to load d3/LDAvis\n",
       "   require.config({paths: {d3: \"https://cdnjs.cloudflare.com/ajax/libs/d3/3.5.5/d3.min\"}});\n",
       "   require([\"d3\"], function(d3){\n",
       "      window.d3 = d3;\n",
       "      LDAvis_load_lib(\"https://cdn.rawgit.com/bmabey/pyLDAvis/files/ldavis.v1.0.0.js\", function(){\n",
       "        new LDAvis(\"#\" + \"ldavis_el61371404246897621286668804432\", ldavis_el61371404246897621286668804432_data);\n",
       "      });\n",
       "    });\n",
       "}else{\n",
       "    // require.js not available: dynamically load d3 & LDAvis\n",
       "    LDAvis_load_lib(\"https://cdnjs.cloudflare.com/ajax/libs/d3/3.5.5/d3.min.js\", function(){\n",
       "         LDAvis_load_lib(\"https://cdn.rawgit.com/bmabey/pyLDAvis/files/ldavis.v1.0.0.js\", function(){\n",
       "                 new LDAvis(\"#\" + \"ldavis_el61371404246897621286668804432\", ldavis_el61371404246897621286668804432_data);\n",
       "            })\n",
       "         });\n",
       "}\n",
       "</script>"
      ],
      "text/plain": [
       "PreparedData(topic_coordinates=              x         y  topics  cluster       Freq\n",
       "topic                                                \n",
       "0     -0.325322 -0.113345       1        1  35.139079\n",
       "1      0.263194 -0.218413       2        1  33.765446\n",
       "2      0.062128  0.331758       3        1  31.095476, topic_info=     Category         Freq      Term        Total  loglift  logprob\n",
       "2353  Default  1034.000000        mr  1034.000000  30.0000  30.0000\n",
       "1232  Default   801.000000      emma   801.000000  29.0000  29.0000\n",
       "2354  Default   627.000000       mrs   627.000000  28.0000  28.0000\n",
       "2312  Default   555.000000      miss   555.000000  27.0000  27.0000\n",
       "1731  Default   454.000000   harriet   454.000000  26.0000  26.0000\n",
       "...       ...          ...       ...          ...      ...      ...\n",
       "3950   Topic3    94.224702      word    94.835313   1.1616  -5.2659\n",
       "2636   Topic3    93.225815     place    93.836426   1.1616  -5.2766\n",
       "2190   Topic3    91.228040    looked    91.838652   1.1614  -5.2982\n",
       "2885   Topic3    90.229153  randalls    90.839765   1.1614  -5.3093\n",
       "2036   Topic3    90.229153      john    90.839765   1.1614  -5.3093\n",
       "\n",
       "[120 rows x 6 columns], token_table=      Topic      Freq       Term\n",
       "term                            \n",
       "365       2  0.994513       away\n",
       "385       2  0.993008      bates\n",
       "416       3  0.991963    believe\n",
       "439       1  0.993908     better\n",
       "475       2  0.996507       body\n",
       "...     ...       ...        ...\n",
       "3940      2  0.998156      woman\n",
       "3948      2  0.997495  woodhouse\n",
       "3950      3  0.991192       word\n",
       "3989      3  0.993634        yes\n",
       "3994      1  0.994368      young\n",
       "\n",
       "[90 rows x 3 columns], R=30, lambda_step=0.01, plot_opts={'xlab': 'PC1', 'ylab': 'PC2'}, topic_order=[1, 2, 3])"
      ]
     },
     "execution_count": 107,
     "metadata": {},
     "output_type": "execute_result"
    }
   ],
   "source": [
    "pyLDAvis.sklearn.prepare(lda, emma, cvect)"
   ]
  },
  {
   "cell_type": "code",
   "execution_count": null,
   "metadata": {},
   "outputs": [],
   "source": []
  }
 ],
 "metadata": {
  "kernelspec": {
   "display_name": "Python 3",
   "language": "python",
   "name": "python3"
  },
  "language_info": {
   "codemirror_mode": {
    "name": "ipython",
    "version": 3
   },
   "file_extension": ".py",
   "mimetype": "text/x-python",
   "name": "python",
   "nbconvert_exporter": "python",
   "pygments_lexer": "ipython3",
   "version": "3.8.5"
  },
  "widgets": {
   "application/vnd.jupyter.widget-state+json": {
    "state": {},
    "version_major": 2,
    "version_minor": 0
   }
  }
 },
 "nbformat": 4,
 "nbformat_minor": 4
}
